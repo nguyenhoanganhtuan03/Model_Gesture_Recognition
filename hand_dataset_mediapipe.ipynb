{
 "cells": [
  {
   "cell_type": "markdown",
   "metadata": {},
   "source": [
    "# 1. Import and Install Dependencies"
   ]
  },
  {
   "cell_type": "code",
   "execution_count": null,
   "metadata": {},
   "outputs": [],
   "source": [
    "!pip install tensorflow opencv-python mediapipe sklearn matplotlib"
   ]
  },
  {
   "cell_type": "code",
   "execution_count": 1,
   "metadata": {},
   "outputs": [
    {
     "name": "stdout",
     "output_type": "stream",
     "text": [
      "WARNING:tensorflow:From c:\\Users\\ACER\\AppData\\Local\\Programs\\Python\\Python310\\lib\\site-packages\\keras\\src\\losses.py:2976: The name tf.losses.sparse_softmax_cross_entropy is deprecated. Please use tf.compat.v1.losses.sparse_softmax_cross_entropy instead.\n",
      "\n"
     ]
    }
   ],
   "source": [
    "import cv2\n",
    "import numpy as np\n",
    "import os\n",
    "from matplotlib import pyplot as plt\n",
    "import time\n",
    "import mediapipe as mp"
   ]
  },
  {
   "cell_type": "markdown",
   "metadata": {},
   "source": [
    "# 2. Keypoints using MP Holistic"
   ]
  },
  {
   "cell_type": "code",
   "execution_count": 2,
   "metadata": {},
   "outputs": [],
   "source": [
    "mp_holistic = mp.solutions.holistic \n",
    "mp_drawing = mp.solutions.drawing_utils "
   ]
  },
  {
   "cell_type": "code",
   "execution_count": 3,
   "metadata": {},
   "outputs": [],
   "source": [
    "def mediapipe_detection(image, model):\n",
    "    image = cv2.cvtColor(image, cv2.COLOR_BGR2RGB) \n",
    "    image.flags.writeable = False                  \n",
    "    results = model.process(image)                 \n",
    "    image.flags.writeable = True                   \n",
    "    image = cv2.cvtColor(image, cv2.COLOR_RGB2BGR)\n",
    "    return image, results"
   ]
  },
  {
   "cell_type": "code",
   "execution_count": 4,
   "metadata": {},
   "outputs": [],
   "source": [
    "def draw_landmarks(image, results):\n",
    "    mp_drawing.draw_landmarks(image, results.face_landmarks, mp_holistic.POSE_CONNECTIONS) \n",
    "    mp_drawing.draw_landmarks(image, results.pose_landmarks, mp_holistic.POSE_CONNECTIONS)\n",
    "    mp_drawing.draw_landmarks(image, results.left_hand_landmarks, mp_holistic.HAND_CONNECTIONS) \n",
    "    mp_drawing.draw_landmarks(image, results.right_hand_landmarks, mp_holistic.HAND_CONNECTIONS) "
   ]
  },
  {
   "cell_type": "code",
   "execution_count": 6,
   "metadata": {},
   "outputs": [],
   "source": [
    "def draw_styled_landmarks(image, results):\n",
    "    mp_drawing.draw_landmarks(image, results.face_landmarks, mp_holistic.POSE_CONNECTIONS, \n",
    "                             mp_drawing.DrawingSpec(color=(80,110,10), thickness=1, circle_radius=1), \n",
    "                             mp_drawing.DrawingSpec(color=(80,256,121), thickness=1, circle_radius=1)\n",
    "                             ) \n",
    "\n",
    "    mp_drawing.draw_landmarks(image, results.pose_landmarks, mp_holistic.POSE_CONNECTIONS,\n",
    "                             mp_drawing.DrawingSpec(color=(80,22,10), thickness=2, circle_radius=4), \n",
    "                             mp_drawing.DrawingSpec(color=(80,44,121), thickness=2, circle_radius=2)\n",
    "                             ) \n",
    "    \n",
    "    mp_drawing.draw_landmarks(image, results.left_hand_landmarks, mp_holistic.HAND_CONNECTIONS, \n",
    "                             mp_drawing.DrawingSpec(color=(121,22,76), thickness=2, circle_radius=4), \n",
    "                             mp_drawing.DrawingSpec(color=(121,44,250), thickness=2, circle_radius=2)\n",
    "                             ) \n",
    "    \n",
    "    mp_drawing.draw_landmarks(image, results.right_hand_landmarks, mp_holistic.HAND_CONNECTIONS, \n",
    "                             mp_drawing.DrawingSpec(color=(245,117,66), thickness=2, circle_radius=4), \n",
    "                             mp_drawing.DrawingSpec(color=(245,66,230), thickness=2, circle_radius=2)\n",
    "                             ) "
   ]
  },
  {
   "cell_type": "code",
   "execution_count": 7,
   "metadata": {
    "collapsed": true
   },
   "outputs": [
    {
     "name": "stderr",
     "output_type": "stream",
     "text": [
      "c:\\Users\\ACER\\AppData\\Local\\Programs\\Python\\Python310\\lib\\site-packages\\google\\protobuf\\symbol_database.py:55: UserWarning: SymbolDatabase.GetPrototype() is deprecated. Please use message_factory.GetMessageClass() instead. SymbolDatabase.GetPrototype() will be removed soon.\n",
      "  warnings.warn('SymbolDatabase.GetPrototype() is deprecated. Please '\n"
     ]
    }
   ],
   "source": [
    "cap = cv2.VideoCapture(0) \n",
    "with mp_holistic.Holistic(min_detection_confidence=0.5, min_tracking_confidence=0.5) as holistic:\n",
    "    while cap.isOpened():\n",
    "\n",
    "        ret, frame = cap.read()\n",
    "\n",
    "        image, results = mediapipe_detection(frame, holistic)\n",
    "        # print(results)\n",
    "        \n",
    "        draw_styled_landmarks(image, results)\n",
    "\n",
    "        cv2.imshow('OpenCV Feed', image)\n",
    "\n",
    "        if cv2.waitKey(10) & 0xFF == ord('q'):\n",
    "            break\n",
    "    cap.release()\n",
    "    cv2.destroyAllWindows()"
   ]
  },
  {
   "cell_type": "code",
   "execution_count": 8,
   "metadata": {},
   "outputs": [
    {
     "data": {
      "text/plain": [
       "mediapipe.python.solution_base.SolutionOutputs"
      ]
     },
     "execution_count": 8,
     "metadata": {},
     "output_type": "execute_result"
    }
   ],
   "source": [
    "results"
   ]
  },
  {
   "cell_type": "code",
   "execution_count": 9,
   "metadata": {},
   "outputs": [],
   "source": [
    "draw_landmarks(frame, results)"
   ]
  },
  {
   "cell_type": "code",
   "execution_count": null,
   "metadata": {},
   "outputs": [],
   "source": [
    "plt.imshow(cv2.cvtColor(frame, cv2.COLOR_BGR2RGB))"
   ]
  },
  {
   "cell_type": "markdown",
   "metadata": {},
   "source": [
    "# 3. Extract Keypoint Values"
   ]
  },
  {
   "cell_type": "code",
   "execution_count": 11,
   "metadata": {},
   "outputs": [],
   "source": [
    "pose = []\n",
    "for res in results.pose_landmarks.landmark:\n",
    "    test = np.array([res.x, res.y, res.z, res.visibility])\n",
    "    pose.append(test)"
   ]
  },
  {
   "cell_type": "code",
   "execution_count": 12,
   "metadata": {},
   "outputs": [],
   "source": [
    "pose = np.array([[res.x, res.y, res.z, res.visibility] for res in results.pose_landmarks.landmark]).flatten() if results.pose_landmarks else np.zeros(132)\n",
    "face = np.array([[res.x, res.y, res.z] for res in results.face_landmarks.landmark]).flatten() if results.face_landmarks else np.zeros(1404)\n",
    "lh = np.array([[res.x, res.y, res.z] for res in results.left_hand_landmarks.landmark]).flatten() if results.left_hand_landmarks else np.zeros(21*3)\n",
    "rh = np.array([[res.x, res.y, res.z] for res in results.right_hand_landmarks.landmark]).flatten() if results.right_hand_landmarks else np.zeros(21*3)"
   ]
  },
  {
   "cell_type": "code",
   "execution_count": 13,
   "metadata": {},
   "outputs": [],
   "source": [
    "if results.face_landmarks is not None:\n",
    "    face = np.array([[res.x, res.y, res.z] for res in results.face_landmarks.landmark]).flatten()\n",
    "else:\n",
    "    face = np.zeros(1404)"
   ]
  },
  {
   "cell_type": "code",
   "execution_count": 14,
   "metadata": {},
   "outputs": [],
   "source": [
    "def extract_keypoints(results):\n",
    "    pose = np.array([[res.x, res.y, res.z, res.visibility] for res in results.pose_landmarks.landmark]).flatten() if results.pose_landmarks else np.zeros(33*4)\n",
    "    face = np.array([[res.x, res.y, res.z] for res in results.face_landmarks.landmark]).flatten() if results.face_landmarks else np.zeros(468*3)\n",
    "    lh = np.array([[res.x, res.y, res.z] for res in results.left_hand_landmarks.landmark]).flatten() if results.left_hand_landmarks else np.zeros(21*3)\n",
    "    rh = np.array([[res.x, res.y, res.z] for res in results.right_hand_landmarks.landmark]).flatten() if results.right_hand_landmarks else np.zeros(21*3)\n",
    "    return np.concatenate([pose, face, lh, rh])"
   ]
  },
  {
   "cell_type": "code",
   "execution_count": 15,
   "metadata": {},
   "outputs": [],
   "source": [
    "result_test = extract_keypoints(results)"
   ]
  },
  {
   "cell_type": "code",
   "execution_count": 16,
   "metadata": {},
   "outputs": [
    {
     "data": {
      "text/plain": [
       "array([ 0.58179182,  0.54436225, -0.95428073, ...,  0.        ,\n",
       "        0.        ,  0.        ])"
      ]
     },
     "execution_count": 16,
     "metadata": {},
     "output_type": "execute_result"
    }
   ],
   "source": [
    "result_test"
   ]
  },
  {
   "cell_type": "code",
   "execution_count": null,
   "metadata": {},
   "outputs": [
    {
     "data": {
      "text/plain": [
       "1662"
      ]
     },
     "execution_count": 17,
     "metadata": {},
     "output_type": "execute_result"
    }
   ],
   "source": [
    "# 468*3 = 1404 (khuôn mặt).\n",
    "# 33*4 = 132 (cơ thể).\n",
    "# 21*3 + 21*3 = 126 (hai bàn tay).\n",
    "468*3+33*4+21*3+21*3"
   ]
  },
  {
   "cell_type": "code",
   "execution_count": 18,
   "metadata": {},
   "outputs": [],
   "source": [
    "np.save('0', result_test)"
   ]
  },
  {
   "cell_type": "code",
   "execution_count": 19,
   "metadata": {},
   "outputs": [
    {
     "data": {
      "text/plain": [
       "array([ 0.58179182,  0.54436225, -0.95428073, ...,  0.        ,\n",
       "        0.        ,  0.        ])"
      ]
     },
     "execution_count": 19,
     "metadata": {},
     "output_type": "execute_result"
    }
   ],
   "source": [
    "np.load('0.npy')"
   ]
  },
  {
   "cell_type": "markdown",
   "metadata": {},
   "source": [
    "# 4. Setup Folders for Collection"
   ]
  },
  {
   "cell_type": "code",
   "execution_count": 24,
   "metadata": {},
   "outputs": [],
   "source": [
    "DATA_PATH = os.path.join('E:\\Data\\MP_Data') \n",
    "\n",
    "# actions = np.array(['left', 'right', 'down', 'up', 'stop'])\n",
    "actions = np.array(['other actions'])\n",
    "\n",
    "# Số video\n",
    "no_sequences = 150\n",
    "\n",
    "# Số frame\n",
    "sequence_length = 30\n",
    "\n",
    "start_folder = 0"
   ]
  },
  {
   "cell_type": "code",
   "execution_count": 25,
   "metadata": {},
   "outputs": [],
   "source": [
    "# Dùng cho trường hơp mới tạo dataset\n",
    "for action in actions: \n",
    "    for sequence in range(no_sequences):\n",
    "        try: \n",
    "            os.makedirs(os.path.join(DATA_PATH, action, str(sequence)))\n",
    "        except:\n",
    "            pass"
   ]
  },
  {
   "cell_type": "code",
   "execution_count": 22,
   "metadata": {},
   "outputs": [],
   "source": [
    "# Dùng cho trường hợp thêm video vào dataset đã có sẵn\n",
    "for action in actions: \n",
    "    dirmax = np.max(np.array(os.listdir(os.path.join(DATA_PATH, action))).astype(int))\n",
    "    for sequence in range(1,no_sequences+1):\n",
    "        try: \n",
    "            os.makedirs(os.path.join(DATA_PATH, action, str(dirmax+sequence)))\n",
    "        except:\n",
    "            pass"
   ]
  },
  {
   "cell_type": "markdown",
   "metadata": {},
   "source": [
    "# 5. Collect Keypoint Values for Training and Testing"
   ]
  },
  {
   "cell_type": "code",
   "execution_count": 26,
   "metadata": {},
   "outputs": [
    {
     "name": "stdout",
     "output_type": "stream",
     "text": [
      "Loading model, please wait...\n"
     ]
    }
   ],
   "source": [
    "cap = cv2.VideoCapture(0)\n",
    "\n",
    "with mp_holistic.Holistic(min_detection_confidence=0.5, min_tracking_confidence=0.5) as holistic:\n",
    "    print(\"Loading model, please wait...\")\n",
    "    cv2.putText(image, 'Loading model, please wait...', (120, 200), \n",
    "                cv2.FONT_HERSHEY_SIMPLEX, 1, (0, 255, 0), 4, cv2.LINE_AA)\n",
    "    cv2.imshow('OpenCV Feed', image)\n",
    "    cv2.waitKey(10000)  \n",
    "\n",
    "    for action in actions:\n",
    "        for sequence in range(start_folder, start_folder+no_sequences):\n",
    "            for frame_num in range(sequence_length):\n",
    "\n",
    "                ret, frame = cap.read()\n",
    "\n",
    "                image, results = mediapipe_detection(frame, holistic)\n",
    "\n",
    "                draw_styled_landmarks(image, results)\n",
    "\n",
    "                if frame_num == 0: \n",
    "                    cv2.putText(image, 'STARTING COLLECTION', (120,200), \n",
    "                               cv2.FONT_HERSHEY_SIMPLEX, 1, (0,255, 0), 4, cv2.LINE_AA)\n",
    "                    cv2.putText(image, 'Collecting frames for {} Video Number {}'.format(action, sequence), (15,12), \n",
    "                               cv2.FONT_HERSHEY_SIMPLEX, 0.5, (0, 0, 255), 1, cv2.LINE_AA)\n",
    "\n",
    "                    cv2.imshow('OpenCV Feed', image)\n",
    "                    cv2.waitKey(2000) \n",
    "                else: \n",
    "                    cv2.putText(image, 'Collecting frames for {} Video Number {}'.format(action, sequence), (15,12), \n",
    "                               cv2.FONT_HERSHEY_SIMPLEX, 0.5, (0, 0, 255), 1, cv2.LINE_AA)\n",
    "  \n",
    "                    cv2.imshow('OpenCV Feed', image)\n",
    "\n",
    "                keypoints = extract_keypoints(results)\n",
    "                npy_path = os.path.join(DATA_PATH, action, str(sequence), str(frame_num))\n",
    "                np.save(npy_path, keypoints)\n",
    "\n",
    "                if cv2.waitKey(10) & 0xFF == ord('q'):\n",
    "                    break\n",
    "                    \n",
    "    cap.release()\n",
    "    cv2.destroyAllWindows()"
   ]
  },
  {
   "cell_type": "code",
   "execution_count": null,
   "metadata": {},
   "outputs": [],
   "source": [
    "cap.release()\n",
    "cv2.destroyAllWindows()"
   ]
  },
  {
   "cell_type": "markdown",
   "metadata": {},
   "source": [
    "# 6. Preprocess Data and Create Labels and Features"
   ]
  },
  {
   "cell_type": "code",
   "execution_count": 27,
   "metadata": {},
   "outputs": [],
   "source": [
    "from sklearn.model_selection import train_test_split\n",
    "from tensorflow.keras.utils import to_categorical"
   ]
  },
  {
   "cell_type": "code",
   "execution_count": 28,
   "metadata": {},
   "outputs": [],
   "source": [
    "actions = np.array(['left', 'right', 'down', 'up', 'stop', 'other actions'])\n",
    "label_map = {label:num for num, label in enumerate(actions)}"
   ]
  },
  {
   "cell_type": "code",
   "execution_count": 29,
   "metadata": {},
   "outputs": [
    {
     "data": {
      "text/plain": [
       "{'left': 0, 'right': 1, 'down': 2, 'up': 3, 'stop': 4, 'other actions': 5}"
      ]
     },
     "execution_count": 29,
     "metadata": {},
     "output_type": "execute_result"
    }
   ],
   "source": [
    "label_map"
   ]
  },
  {
   "cell_type": "code",
   "execution_count": 30,
   "metadata": {},
   "outputs": [
    {
     "name": "stdout",
     "output_type": "stream",
     "text": [
      "Nhãn 'down' có 150 video (thư mục)\n",
      "Nhãn 'left' có 150 video (thư mục)\n",
      "Nhãn 'other actions' có 150 video (thư mục)\n",
      "Nhãn 'right' có 150 video (thư mục)\n",
      "Nhãn 'stop' có 150 video (thư mục)\n",
      "Nhãn 'up' có 150 video (thư mục)\n",
      "Tổng số video (thư mục): 900\n"
     ]
    }
   ],
   "source": [
    "def count_videos_in_folder(folder_path):\n",
    "    total_videos = 0\n",
    "    label_folders = os.listdir(folder_path)\n",
    "    \n",
    "    for label in label_folders:\n",
    "        label_path = os.path.join(folder_path, label)\n",
    "        if os.path.isdir(label_path):\n",
    "            subfolders = [f for f in os.listdir(label_path) if os.path.isdir(os.path.join(label_path, f))]\n",
    "            total_videos += len(subfolders)\n",
    "            print(f\"Nhãn '{label}' có {len(subfolders)} video (thư mục)\")\n",
    "    \n",
    "    print(f\"Tổng số video (thư mục): {total_videos}\")\n",
    "\n",
    "# Gọi hàm với đường dẫn đến folder chứa dữ liệu\n",
    "count_videos_in_folder(DATA_PATH)"
   ]
  },
  {
   "cell_type": "code",
   "execution_count": 31,
   "metadata": {},
   "outputs": [],
   "source": [
    "def count_videos_in_1_label(folder_path):\n",
    "    label_folders = os.listdir(folder_path)\n",
    "    \n",
    "    for label in label_folders:\n",
    "        label_path = os.path.join(folder_path, label)\n",
    "        if os.path.isdir(label_path):\n",
    "            subfolders = [f for f in os.listdir(label_path) if os.path.isdir(os.path.join(label_path, f))]\n",
    "            return len(subfolders)\n",
    "    \n",
    "num_video_in_label = count_videos_in_1_label(DATA_PATH)"
   ]
  },
  {
   "cell_type": "code",
   "execution_count": 32,
   "metadata": {},
   "outputs": [],
   "source": [
    "sequences, labels = [], []\n",
    "for action in actions:\n",
    "    for sequence in range(num_video_in_label):\n",
    "        window = []\n",
    "        for frame_num in range(sequence_length):\n",
    "            res = np.load(os.path.join(DATA_PATH, action, str(sequence), \"{}.npy\".format(frame_num)))\n",
    "            window.append(res)\n",
    "        sequences.append(window)\n",
    "        labels.append(label_map[action])"
   ]
  },
  {
   "cell_type": "code",
   "execution_count": 33,
   "metadata": {},
   "outputs": [
    {
     "data": {
      "text/plain": [
       "(900, 30, 1662)"
      ]
     },
     "execution_count": 33,
     "metadata": {},
     "output_type": "execute_result"
    }
   ],
   "source": [
    "np.array(sequences).shape"
   ]
  },
  {
   "cell_type": "code",
   "execution_count": 34,
   "metadata": {},
   "outputs": [
    {
     "data": {
      "text/plain": [
       "(900,)"
      ]
     },
     "execution_count": 34,
     "metadata": {},
     "output_type": "execute_result"
    }
   ],
   "source": [
    "np.array(labels).shape"
   ]
  },
  {
   "cell_type": "code",
   "execution_count": 35,
   "metadata": {},
   "outputs": [],
   "source": [
    "X = np.array(sequences)"
   ]
  },
  {
   "cell_type": "code",
   "execution_count": 36,
   "metadata": {},
   "outputs": [
    {
     "data": {
      "text/plain": [
       "(900, 30, 1662)"
      ]
     },
     "execution_count": 36,
     "metadata": {},
     "output_type": "execute_result"
    }
   ],
   "source": [
    "X.shape"
   ]
  },
  {
   "cell_type": "code",
   "execution_count": 37,
   "metadata": {},
   "outputs": [],
   "source": [
    "y = to_categorical(labels).astype(int)"
   ]
  },
  {
   "cell_type": "code",
   "execution_count": 38,
   "metadata": {},
   "outputs": [
    {
     "data": {
      "text/plain": [
       "array([[1, 0, 0, 0, 0, 0],\n",
       "       [1, 0, 0, 0, 0, 0],\n",
       "       [1, 0, 0, 0, 0, 0],\n",
       "       ...,\n",
       "       [0, 0, 0, 0, 0, 1],\n",
       "       [0, 0, 0, 0, 0, 1],\n",
       "       [0, 0, 0, 0, 0, 1]])"
      ]
     },
     "execution_count": 38,
     "metadata": {},
     "output_type": "execute_result"
    }
   ],
   "source": [
    "y"
   ]
  },
  {
   "cell_type": "code",
   "execution_count": 39,
   "metadata": {},
   "outputs": [
    {
     "name": "stdout",
     "output_type": "stream",
     "text": [
      "Số lượng mẫu:  900\n",
      "Số lượng mẫu train:  720\n",
      "Số lượng mẫu valid:  180\n"
     ]
    }
   ],
   "source": [
    "X_train, X_test, y_train, y_test = train_test_split(X, y, test_size=0.2, shuffle=True, random_state=12)\n",
    "print(\"Số lượng mẫu: \", len(X))\n",
    "print(\"Số lượng mẫu train: \", len(X_train))\n",
    "print(\"Số lượng mẫu valid: \", len(X_test))"
   ]
  },
  {
   "cell_type": "code",
   "execution_count": 40,
   "metadata": {},
   "outputs": [
    {
     "data": {
      "text/plain": [
       "(180, 6)"
      ]
     },
     "execution_count": 40,
     "metadata": {},
     "output_type": "execute_result"
    }
   ],
   "source": [
    "y_test.shape"
   ]
  },
  {
   "cell_type": "markdown",
   "metadata": {},
   "source": [
    "# 7. Build and Train LSTM Neural Network"
   ]
  },
  {
   "cell_type": "code",
   "execution_count": 41,
   "metadata": {},
   "outputs": [],
   "source": [
    "import tensorflow as tf\n",
    "from tensorflow.keras.models import Sequential\n",
    "from tensorflow.keras.layers import LSTM, Dense, BatchNormalization, GRU\n",
    "from tensorflow.keras.callbacks import TensorBoard\n",
    "from tensorflow.keras.callbacks import Callback, ModelCheckpoint, EarlyStopping, CSVLogger\n",
    "from tensorflow.keras.optimizers import Adam\n",
    "from tensorflow.keras.utils import plot_model\n",
    "\n",
    "import csv\n",
    "import time"
   ]
  },
  {
   "cell_type": "code",
   "execution_count": 42,
   "metadata": {},
   "outputs": [
    {
     "name": "stdout",
     "output_type": "stream",
     "text": [
      "WARNING:tensorflow:From c:\\Users\\ACER\\AppData\\Local\\Programs\\Python\\Python310\\lib\\site-packages\\keras\\src\\backend.py:873: The name tf.get_default_graph is deprecated. Please use tf.compat.v1.get_default_graph instead.\n",
      "\n"
     ]
    }
   ],
   "source": [
    "model = Sequential()\n",
    "\n",
    "# model.add(LSTM(32, return_sequences=True, activation='relu', input_shape=(30,1662)))\n",
    "# model.add(LSTM(64, return_sequences=True, activation='relu'))\n",
    "# model.add(LSTM(96, return_sequences=False, activation='relu'))\n",
    "# model.add(BatchNormalization())\n",
    "\n",
    "model.add(GRU(32, return_sequences=True, input_shape = (30, 1662)))\n",
    "model.add(GRU(64, return_sequences=True))\n",
    "model.add(GRU(128, return_sequences=False))\n",
    "model.add(BatchNormalization())\n",
    "\n",
    "model.add(Dense(64, activation='relu'))\n",
    "model.add(Dense(32, activation='relu'))\n",
    "model.add(Dense(actions.shape[0], activation='softmax'))"
   ]
  },
  {
   "cell_type": "code",
   "execution_count": 43,
   "metadata": {},
   "outputs": [],
   "source": [
    "class TimeHistory(tf.keras.callbacks.Callback):\n",
    "    def __init__(self, train_time_path):\n",
    "        super(TimeHistory, self).__init__()\n",
    "        self.train_time_path = train_time_path\n",
    "        self.times = []\n",
    "        self.epoch_start_time = None\n",
    "\n",
    "    def on_epoch_begin(self, epoch, logs=None):\n",
    "        self.epoch_start_time = time.time()\n",
    "\n",
    "    def on_epoch_end(self, epoch, logs=None):\n",
    "        elapsed_time = time.time() - self.epoch_start_time\n",
    "        self.times.append(elapsed_time)\n",
    "        \n",
    "        with open(self.train_time_path, 'a', newline='') as f:\n",
    "            writer = csv.writer(f)\n",
    "            if f.tell() == 0:  \n",
    "                writer.writerow(['epoch', 'time'])\n",
    "            writer.writerow([epoch, elapsed_time])"
   ]
  },
  {
   "cell_type": "code",
   "execution_count": 45,
   "metadata": {},
   "outputs": [
    {
     "name": "stdout",
     "output_type": "stream",
     "text": [
      "Model: \"sequential\"\n",
      "_________________________________________________________________\n",
      " Layer (type)                Output Shape              Param #   \n",
      "=================================================================\n",
      " gru (GRU)                   (None, 30, 32)            162816    \n",
      "                                                                 \n",
      " gru_1 (GRU)                 (None, 30, 64)            18816     \n",
      "                                                                 \n",
      " gru_2 (GRU)                 (None, 128)               74496     \n",
      "                                                                 \n",
      " batch_normalization (Batch  (None, 128)               512       \n",
      " Normalization)                                                  \n",
      "                                                                 \n",
      " dense (Dense)               (None, 64)                8256      \n",
      "                                                                 \n",
      " dense_1 (Dense)             (None, 32)                2080      \n",
      "                                                                 \n",
      " dense_2 (Dense)             (None, 6)                 198       \n",
      "                                                                 \n",
      "=================================================================\n",
      "Total params: 267174 (1.02 MB)\n",
      "Trainable params: 266918 (1.02 MB)\n",
      "Non-trainable params: 256 (1.00 KB)\n",
      "_________________________________________________________________\n"
     ]
    }
   ],
   "source": [
    "model.summary()\n",
    "\n",
    "early_stopping_callbacks = tf.keras.callbacks.EarlyStopping(\n",
    "        monitor='val_loss',\n",
    "        patience=200,\n",
    "        restore_best_weights=True,\n",
    "        verbose=1\n",
    ")\n",
    "\n",
    "best_model_filepath = './model_6_labels/best_model.h5'\n",
    "model_checkpoint = tf.keras.callbacks.ModelCheckpoint(\n",
    "        best_model_filepath,\n",
    "        monitor='val_loss',\n",
    "        save_best_only=True,\n",
    "        mode='min',\n",
    "        verbose=1\n",
    "    )\n",
    "\n",
    "time_log_path = './model_6_labels/train_time_epoch.csv'\n",
    "csv_log_path = './model_6_labels/training_log.csv'\n",
    "\n",
    "if os.path.exists(time_log_path):\n",
    "    os.remove(time_log_path)\n",
    "    print(f\"Đã xóa file: {time_log_path}\")\n",
    "if os.path.exists(csv_log_path):\n",
    "    os.remove(csv_log_path)\n",
    "    print(f\"Đã xóa file: {csv_log_path}\")\n",
    "\n",
    "time_callback = TimeHistory(time_log_path)\n",
    "csv_logger = CSVLogger(csv_log_path, append=False, separator=';')\n",
    "\n",
    "log_dir = os.path.join('Logs')\n",
    "tb_callback = TensorBoard(log_dir=log_dir)\n",
    "\n",
    "model.compile(optimizer=Adam(learning_rate=0.0005), loss='categorical_crossentropy', metrics=['categorical_accuracy'])"
   ]
  },
  {
   "cell_type": "code",
   "execution_count": 46,
   "metadata": {},
   "outputs": [
    {
     "data": {
      "image/png": "[encoded data removed]",
      "text/plain": [
       "<IPython.core.display.Image object>"
      ]
     },
     "execution_count": 46,
     "metadata": {},
     "output_type": "execute_result"
    }
   ],
   "source": [
    "plot_model(model, to_file='./model_6_labels/model_diagram.png', show_shapes=True, show_layer_names=True)"
   ]
  },
  {
   "cell_type": "code",
   "execution_count": 47,
   "metadata": {
    "scrolled": true
   },
   "outputs": [
    {
     "name": "stdout",
     "output_type": "stream",
     "text": [
      "Epoch 1/1000\n",
      "WARNING:tensorflow:From c:\\Users\\ACER\\AppData\\Local\\Programs\\Python\\Python310\\lib\\site-packages\\keras\\src\\utils\\tf_utils.py:492: The name tf.ragged.RaggedTensorValue is deprecated. Please use tf.compat.v1.ragged.RaggedTensorValue instead.\n",
      "\n",
      "WARNING:tensorflow:From c:\\Users\\ACER\\AppData\\Local\\Programs\\Python\\Python310\\lib\\site-packages\\keras\\src\\engine\\base_layer_utils.py:384: The name tf.executing_eagerly_outside_functions is deprecated. Please use tf.compat.v1.executing_eagerly_outside_functions instead.\n",
      "\n",
      "22/23 [===========================>..] - ETA: 0s - loss: 1.3394 - categorical_accuracy: 0.5327\n",
      "Epoch 1: val_loss improved from inf to 1.72532, saving model to ./model_6_labels\\best_model.h5\n",
      "23/23 [==============================] - 5s 62ms/step - loss: 1.3300 - categorical_accuracy: 0.5361 - val_loss: 1.7253 - val_categorical_accuracy: 0.2611\n",
      "Epoch 2/1000\n",
      " 4/23 [====>.........................] - ETA: 0s - loss: 0.8773 - categorical_accuracy: 0.7656"
     ]
    },
    {
     "name": "stderr",
     "output_type": "stream",
     "text": [
      "c:\\Users\\ACER\\AppData\\Local\\Programs\\Python\\Python310\\lib\\site-packages\\keras\\src\\engine\\training.py:3103: UserWarning: You are saving your model as an HDF5 file via `model.save()`. This file format is considered legacy. We recommend using instead the native Keras format, e.g. `model.save('my_model.keras')`.\n",
      "  saving_api.save_model(\n"
     ]
    },
    {
     "name": "stdout",
     "output_type": "stream",
     "text": [
      "21/23 [==========================>...] - ETA: 0s - loss: 0.7580 - categorical_accuracy: 0.7946\n",
      "Epoch 2: val_loss improved from 1.72532 to 1.63201, saving model to ./model_6_labels\\best_model.h5\n",
      "23/23 [==============================] - 1s 28ms/step - loss: 0.7393 - categorical_accuracy: 0.8000 - val_loss: 1.6320 - val_categorical_accuracy: 0.2167\n",
      "Epoch 3/1000\n",
      "21/23 [==========================>...] - ETA: 0s - loss: 0.4834 - categorical_accuracy: 0.8676\n",
      "Epoch 3: val_loss improved from 1.63201 to 1.42148, saving model to ./model_6_labels\\best_model.h5\n",
      "23/23 [==============================] - 1s 28ms/step - loss: 0.4839 - categorical_accuracy: 0.8653 - val_loss: 1.4215 - val_categorical_accuracy: 0.5889\n",
      "Epoch 4/1000\n",
      "22/23 [===========================>..] - ETA: 0s - loss: 0.3312 - categorical_accuracy: 0.8949\n",
      "Epoch 4: val_loss did not improve from 1.42148\n",
      "23/23 [==============================] - 1s 26ms/step - loss: 0.3305 - categorical_accuracy: 0.8944 - val_loss: 1.8618 - val_categorical_accuracy: 0.1611\n",
      "Epoch 5/1000\n",
      "22/23 [===========================>..] - ETA: 0s - loss: 0.2949 - categorical_accuracy: 0.8977\n",
      "Epoch 5: val_loss did not improve from 1.42148\n",
      "23/23 [==============================] - 1s 27ms/step - loss: 0.2925 - categorical_accuracy: 0.8986 - val_loss: 1.7223 - val_categorical_accuracy: 0.1667\n",
      "Epoch 6/1000\n",
      "22/23 [===========================>..] - ETA: 0s - loss: 0.2696 - categorical_accuracy: 0.9205\n",
      "Epoch 6: val_loss did not improve from 1.42148\n",
      "23/23 [==============================] - 1s 26ms/step - loss: 0.2672 - categorical_accuracy: 0.9208 - val_loss: 1.4812 - val_categorical_accuracy: 0.5167\n",
      "Epoch 7/1000\n",
      "22/23 [===========================>..] - ETA: 0s - loss: 0.1985 - categorical_accuracy: 0.9261\n",
      "Epoch 7: val_loss improved from 1.42148 to 1.26622, saving model to ./model_6_labels\\best_model.h5\n",
      "23/23 [==============================] - 1s 30ms/step - loss: 0.2044 - categorical_accuracy: 0.9222 - val_loss: 1.2662 - val_categorical_accuracy: 0.5167\n",
      "Epoch 8/1000\n",
      "23/23 [==============================] - ETA: 0s - loss: 0.1687 - categorical_accuracy: 0.9542\n",
      "Epoch 8: val_loss improved from 1.26622 to 1.05945, saving model to ./model_6_labels\\best_model.h5\n",
      "23/23 [==============================] - 1s 31ms/step - loss: 0.1687 - categorical_accuracy: 0.9542 - val_loss: 1.0595 - val_categorical_accuracy: 0.7167\n",
      "Epoch 9/1000\n",
      "21/23 [==========================>...] - ETA: 0s - loss: 0.1892 - categorical_accuracy: 0.9405\n",
      "Epoch 9: val_loss did not improve from 1.05945\n",
      "23/23 [==============================] - 1s 26ms/step - loss: 0.1888 - categorical_accuracy: 0.9417 - val_loss: 2.3608 - val_categorical_accuracy: 0.1556\n",
      "Epoch 10/1000\n",
      "21/23 [==========================>...] - ETA: 0s - loss: 0.1375 - categorical_accuracy: 0.9628\n",
      "Epoch 10: val_loss improved from 1.05945 to 1.00678, saving model to ./model_6_labels\\best_model.h5\n",
      "23/23 [==============================] - 1s 28ms/step - loss: 0.1333 - categorical_accuracy: 0.9639 - val_loss: 1.0068 - val_categorical_accuracy: 0.6444\n",
      "Epoch 11/1000\n",
      "21/23 [==========================>...] - ETA: 0s - loss: 0.1241 - categorical_accuracy: 0.9628\n",
      "Epoch 11: val_loss improved from 1.00678 to 0.93313, saving model to ./model_6_labels\\best_model.h5\n",
      "23/23 [==============================] - 1s 29ms/step - loss: 0.1258 - categorical_accuracy: 0.9639 - val_loss: 0.9331 - val_categorical_accuracy: 0.7389\n",
      "Epoch 12/1000\n",
      "21/23 [==========================>...] - ETA: 0s - loss: 0.1628 - categorical_accuracy: 0.9494\n",
      "Epoch 12: val_loss improved from 0.93313 to 0.93193, saving model to ./model_6_labels\\best_model.h5\n",
      "23/23 [==============================] - 1s 28ms/step - loss: 0.1592 - categorical_accuracy: 0.9514 - val_loss: 0.9319 - val_categorical_accuracy: 0.6222\n",
      "Epoch 13/1000\n",
      "22/23 [===========================>..] - ETA: 0s - loss: 0.1171 - categorical_accuracy: 0.9631\n",
      "Epoch 13: val_loss did not improve from 0.93193\n",
      "23/23 [==============================] - 1s 26ms/step - loss: 0.1234 - categorical_accuracy: 0.9625 - val_loss: 1.0563 - val_categorical_accuracy: 0.5778\n",
      "Epoch 14/1000\n",
      "22/23 [===========================>..] - ETA: 0s - loss: 0.1016 - categorical_accuracy: 0.9702\n",
      "Epoch 14: val_loss improved from 0.93193 to 0.85201, saving model to ./model_6_labels\\best_model.h5\n",
      "23/23 [==============================] - 1s 27ms/step - loss: 0.1051 - categorical_accuracy: 0.9681 - val_loss: 0.8520 - val_categorical_accuracy: 0.7111\n",
      "Epoch 15/1000\n",
      "22/23 [===========================>..] - ETA: 0s - loss: 0.0841 - categorical_accuracy: 0.9773\n",
      "Epoch 15: val_loss did not improve from 0.85201\n",
      "23/23 [==============================] - 1s 27ms/step - loss: 0.0845 - categorical_accuracy: 0.9778 - val_loss: 3.5119 - val_categorical_accuracy: 0.4056\n",
      "Epoch 16/1000\n",
      "21/23 [==========================>...] - ETA: 0s - loss: 0.0617 - categorical_accuracy: 0.9851\n",
      "Epoch 16: val_loss did not improve from 0.85201\n",
      "23/23 [==============================] - 1s 27ms/step - loss: 0.0632 - categorical_accuracy: 0.9847 - val_loss: 1.2925 - val_categorical_accuracy: 0.4444\n",
      "Epoch 17/1000\n",
      "21/23 [==========================>...] - ETA: 0s - loss: 0.0717 - categorical_accuracy: 0.9777\n",
      "Epoch 17: val_loss improved from 0.85201 to 0.55667, saving model to ./model_6_labels\\best_model.h5\n",
      "23/23 [==============================] - 1s 28ms/step - loss: 0.0724 - categorical_accuracy: 0.9778 - val_loss: 0.5567 - val_categorical_accuracy: 0.8056\n",
      "Epoch 18/1000\n",
      "21/23 [==========================>...] - ETA: 0s - loss: 0.0646 - categorical_accuracy: 0.9792\n",
      "Epoch 18: val_loss did not improve from 0.55667\n",
      "23/23 [==============================] - 1s 26ms/step - loss: 0.0679 - categorical_accuracy: 0.9750 - val_loss: 0.6407 - val_categorical_accuracy: 0.7778\n",
      "Epoch 19/1000\n",
      "21/23 [==========================>...] - ETA: 0s - loss: 0.0840 - categorical_accuracy: 0.9717\n",
      "Epoch 19: val_loss did not improve from 0.55667\n",
      "23/23 [==============================] - 1s 25ms/step - loss: 0.0817 - categorical_accuracy: 0.9722 - val_loss: 6.3652 - val_categorical_accuracy: 0.2444\n",
      "Epoch 20/1000\n",
      "22/23 [===========================>..] - ETA: 0s - loss: 0.1053 - categorical_accuracy: 0.9730\n",
      "Epoch 20: val_loss did not improve from 0.55667\n",
      "23/23 [==============================] - 1s 28ms/step - loss: 0.1035 - categorical_accuracy: 0.9736 - val_loss: 4.1083 - val_categorical_accuracy: 0.3222\n",
      "Epoch 21/1000\n",
      "21/23 [==========================>...] - ETA: 0s - loss: 0.0672 - categorical_accuracy: 0.9836\n",
      "Epoch 21: val_loss improved from 0.55667 to 0.49954, saving model to ./model_6_labels\\best_model.h5\n",
      "23/23 [==============================] - 1s 27ms/step - loss: 0.0724 - categorical_accuracy: 0.9806 - val_loss: 0.4995 - val_categorical_accuracy: 0.8167\n",
      "Epoch 22/1000\n",
      "23/23 [==============================] - ETA: 0s - loss: 0.0624 - categorical_accuracy: 0.9764\n",
      "Epoch 22: val_loss did not improve from 0.49954\n",
      "23/23 [==============================] - 1s 27ms/step - loss: 0.0624 - categorical_accuracy: 0.9764 - val_loss: 1.8647 - val_categorical_accuracy: 0.5444\n",
      "Epoch 23/1000\n",
      "22/23 [===========================>..] - ETA: 0s - loss: 0.0396 - categorical_accuracy: 0.9886\n",
      "Epoch 23: val_loss did not improve from 0.49954\n",
      "23/23 [==============================] - 1s 26ms/step - loss: 0.0391 - categorical_accuracy: 0.9889 - val_loss: 0.6685 - val_categorical_accuracy: 0.8222\n",
      "Epoch 24/1000\n",
      "21/23 [==========================>...] - ETA: 0s - loss: 0.0322 - categorical_accuracy: 0.9896\n",
      "Epoch 24: val_loss did not improve from 0.49954\n",
      "23/23 [==============================] - 1s 26ms/step - loss: 0.0314 - categorical_accuracy: 0.9903 - val_loss: 4.3865 - val_categorical_accuracy: 0.3222\n",
      "Epoch 25/1000\n",
      "21/23 [==========================>...] - ETA: 0s - loss: 0.0432 - categorical_accuracy: 0.9821\n",
      "Epoch 25: val_loss did not improve from 0.49954\n",
      "23/23 [==============================] - 1s 27ms/step - loss: 0.0442 - categorical_accuracy: 0.9819 - val_loss: 1.9527 - val_categorical_accuracy: 0.6833\n",
      "Epoch 26/1000\n",
      "22/23 [===========================>..] - ETA: 0s - loss: 0.0362 - categorical_accuracy: 0.9901\n",
      "Epoch 26: val_loss did not improve from 0.49954\n",
      "23/23 [==============================] - 1s 26ms/step - loss: 0.0355 - categorical_accuracy: 0.9903 - val_loss: 1.1392 - val_categorical_accuracy: 0.6778\n",
      "Epoch 27/1000\n",
      "21/23 [==========================>...] - ETA: 0s - loss: 0.0681 - categorical_accuracy: 0.9792\n",
      "Epoch 27: val_loss did not improve from 0.49954\n",
      "23/23 [==============================] - 1s 26ms/step - loss: 0.0658 - categorical_accuracy: 0.9806 - val_loss: 1.8757 - val_categorical_accuracy: 0.5444\n",
      "Epoch 28/1000\n",
      "22/23 [===========================>..] - ETA: 0s - loss: 0.0520 - categorical_accuracy: 0.9858\n",
      "Epoch 28: val_loss did not improve from 0.49954\n",
      "23/23 [==============================] - 1s 25ms/step - loss: 0.0522 - categorical_accuracy: 0.9861 - val_loss: 7.2624 - val_categorical_accuracy: 0.2111\n",
      "Epoch 29/1000\n",
      "22/23 [===========================>..] - ETA: 0s - loss: 0.0518 - categorical_accuracy: 0.9787\n",
      "Epoch 29: val_loss did not improve from 0.49954\n",
      "23/23 [==============================] - 1s 25ms/step - loss: 0.0571 - categorical_accuracy: 0.9764 - val_loss: 5.8858 - val_categorical_accuracy: 0.3556\n",
      "Epoch 30/1000\n",
      "21/23 [==========================>...] - ETA: 0s - loss: 0.0739 - categorical_accuracy: 0.9807\n",
      "Epoch 30: val_loss did not improve from 0.49954\n",
      "23/23 [==============================] - 1s 26ms/step - loss: 0.0764 - categorical_accuracy: 0.9806 - val_loss: 6.2622 - val_categorical_accuracy: 0.3278\n",
      "Epoch 31/1000\n",
      "22/23 [===========================>..] - ETA: 0s - loss: 0.0524 - categorical_accuracy: 0.9815\n",
      "Epoch 31: val_loss did not improve from 0.49954\n",
      "23/23 [==============================] - 1s 25ms/step - loss: 0.0526 - categorical_accuracy: 0.9819 - val_loss: 18.2222 - val_categorical_accuracy: 0.1778\n",
      "Epoch 32/1000\n",
      "22/23 [===========================>..] - ETA: 0s - loss: 0.0483 - categorical_accuracy: 0.9844\n",
      "Epoch 32: val_loss did not improve from 0.49954\n",
      "23/23 [==============================] - 1s 25ms/step - loss: 0.0480 - categorical_accuracy: 0.9847 - val_loss: 5.8281 - val_categorical_accuracy: 0.4056\n",
      "Epoch 33/1000\n",
      "22/23 [===========================>..] - ETA: 0s - loss: 0.0336 - categorical_accuracy: 0.9901\n",
      "Epoch 33: val_loss did not improve from 0.49954\n",
      "23/23 [==============================] - 1s 26ms/step - loss: 0.0347 - categorical_accuracy: 0.9889 - val_loss: 2.1927 - val_categorical_accuracy: 0.6944\n",
      "Epoch 34/1000\n",
      "21/23 [==========================>...] - ETA: 0s - loss: 0.0376 - categorical_accuracy: 0.9881\n",
      "Epoch 34: val_loss did not improve from 0.49954\n",
      "23/23 [==============================] - 1s 26ms/step - loss: 0.0400 - categorical_accuracy: 0.9875 - val_loss: 4.2226 - val_categorical_accuracy: 0.4944\n",
      "Epoch 35/1000\n",
      "22/23 [===========================>..] - ETA: 0s - loss: 0.0432 - categorical_accuracy: 0.9872\n",
      "Epoch 35: val_loss did not improve from 0.49954\n",
      "23/23 [==============================] - 1s 25ms/step - loss: 0.0438 - categorical_accuracy: 0.9875 - val_loss: 2.7209 - val_categorical_accuracy: 0.5500\n",
      "Epoch 36/1000\n",
      "21/23 [==========================>...] - ETA: 0s - loss: 0.0332 - categorical_accuracy: 0.9881\n",
      "Epoch 36: val_loss did not improve from 0.49954\n",
      "23/23 [==============================] - 1s 25ms/step - loss: 0.0322 - categorical_accuracy: 0.9889 - val_loss: 2.6468 - val_categorical_accuracy: 0.5444\n",
      "Epoch 37/1000\n",
      "22/23 [===========================>..] - ETA: 0s - loss: 0.0534 - categorical_accuracy: 0.9815\n",
      "Epoch 37: val_loss did not improve from 0.49954\n",
      "23/23 [==============================] - 1s 25ms/step - loss: 0.0525 - categorical_accuracy: 0.9819 - val_loss: 1.9705 - val_categorical_accuracy: 0.6500\n",
      "Epoch 38/1000\n",
      "21/23 [==========================>...] - ETA: 0s - loss: 0.0434 - categorical_accuracy: 0.9881\n",
      "Epoch 38: val_loss did not improve from 0.49954\n",
      "23/23 [==============================] - 1s 25ms/step - loss: 0.0436 - categorical_accuracy: 0.9875 - val_loss: 1.4115 - val_categorical_accuracy: 0.6500\n",
      "Epoch 39/1000\n",
      "22/23 [===========================>..] - ETA: 0s - loss: 0.0182 - categorical_accuracy: 0.9957\n",
      "Epoch 39: val_loss did not improve from 0.49954\n",
      "23/23 [==============================] - 1s 25ms/step - loss: 0.0326 - categorical_accuracy: 0.9917 - val_loss: 0.7722 - val_categorical_accuracy: 0.8000\n",
      "Epoch 40/1000\n",
      "22/23 [===========================>..] - ETA: 0s - loss: 0.0726 - categorical_accuracy: 0.9759\n",
      "Epoch 40: val_loss did not improve from 0.49954\n",
      "23/23 [==============================] - 1s 25ms/step - loss: 0.0719 - categorical_accuracy: 0.9764 - val_loss: 1.5771 - val_categorical_accuracy: 0.6500\n",
      "Epoch 41/1000\n",
      "22/23 [===========================>..] - ETA: 0s - loss: 0.0599 - categorical_accuracy: 0.9858\n",
      "Epoch 41: val_loss did not improve from 0.49954\n",
      "23/23 [==============================] - 1s 26ms/step - loss: 0.0592 - categorical_accuracy: 0.9861 - val_loss: 11.5596 - val_categorical_accuracy: 0.2444\n",
      "Epoch 42/1000\n",
      "21/23 [==========================>...] - ETA: 0s - loss: 0.0563 - categorical_accuracy: 0.9881\n",
      "Epoch 42: val_loss did not improve from 0.49954\n",
      "23/23 [==============================] - 1s 25ms/step - loss: 0.0561 - categorical_accuracy: 0.9875 - val_loss: 1.9059 - val_categorical_accuracy: 0.7722\n",
      "Epoch 43/1000\n",
      "21/23 [==========================>...] - ETA: 0s - loss: 0.0216 - categorical_accuracy: 0.9926\n",
      "Epoch 43: val_loss did not improve from 0.49954\n",
      "23/23 [==============================] - 1s 27ms/step - loss: 0.0204 - categorical_accuracy: 0.9931 - val_loss: 2.3475 - val_categorical_accuracy: 0.6056\n",
      "Epoch 44/1000\n",
      "22/23 [===========================>..] - ETA: 0s - loss: 0.0225 - categorical_accuracy: 0.9901\n",
      "Epoch 44: val_loss did not improve from 0.49954\n",
      "23/23 [==============================] - 1s 25ms/step - loss: 0.0223 - categorical_accuracy: 0.9903 - val_loss: 7.0849 - val_categorical_accuracy: 0.3389\n",
      "Epoch 45/1000\n",
      "21/23 [==========================>...] - ETA: 0s - loss: 0.0148 - categorical_accuracy: 0.9955\n",
      "Epoch 45: val_loss did not improve from 0.49954\n",
      "23/23 [==============================] - 1s 25ms/step - loss: 0.0143 - categorical_accuracy: 0.9958 - val_loss: 6.2069 - val_categorical_accuracy: 0.3667\n",
      "Epoch 46/1000\n",
      "22/23 [===========================>..] - ETA: 0s - loss: 0.0157 - categorical_accuracy: 0.9957\n",
      "Epoch 46: val_loss did not improve from 0.49954\n",
      "23/23 [==============================] - 1s 25ms/step - loss: 0.0173 - categorical_accuracy: 0.9958 - val_loss: 0.6967 - val_categorical_accuracy: 0.8278\n",
      "Epoch 47/1000\n",
      "22/23 [===========================>..] - ETA: 0s - loss: 0.0080 - categorical_accuracy: 0.9986\n",
      "Epoch 47: val_loss did not improve from 0.49954\n",
      "23/23 [==============================] - 1s 26ms/step - loss: 0.0079 - categorical_accuracy: 0.9986 - val_loss: 1.9126 - val_categorical_accuracy: 0.5722\n",
      "Epoch 48/1000\n",
      "22/23 [===========================>..] - ETA: 0s - loss: 0.0066 - categorical_accuracy: 1.0000\n",
      "Epoch 48: val_loss improved from 0.49954 to 0.16860, saving model to ./model_6_labels\\best_model.h5\n",
      "23/23 [==============================] - 1s 27ms/step - loss: 0.0065 - categorical_accuracy: 1.0000 - val_loss: 0.1686 - val_categorical_accuracy: 0.9444\n",
      "Epoch 49/1000\n",
      "22/23 [===========================>..] - ETA: 0s - loss: 0.0040 - categorical_accuracy: 1.0000\n",
      "Epoch 49: val_loss improved from 0.16860 to 0.13249, saving model to ./model_6_labels\\best_model.h5\n",
      "23/23 [==============================] - 1s 27ms/step - loss: 0.0041 - categorical_accuracy: 1.0000 - val_loss: 0.1325 - val_categorical_accuracy: 0.9556\n",
      "Epoch 50/1000\n",
      "22/23 [===========================>..] - ETA: 0s - loss: 0.0029 - categorical_accuracy: 1.0000\n",
      "Epoch 50: val_loss improved from 0.13249 to 0.08679, saving model to ./model_6_labels\\best_model.h5\n",
      "23/23 [==============================] - 1s 26ms/step - loss: 0.0030 - categorical_accuracy: 1.0000 - val_loss: 0.0868 - val_categorical_accuracy: 0.9667\n",
      "Epoch 51/1000\n",
      "21/23 [==========================>...] - ETA: 0s - loss: 0.0063 - categorical_accuracy: 0.9985\n",
      "Epoch 51: val_loss did not improve from 0.08679\n",
      "23/23 [==============================] - 1s 27ms/step - loss: 0.0076 - categorical_accuracy: 0.9972 - val_loss: 0.8281 - val_categorical_accuracy: 0.8000\n",
      "Epoch 52/1000\n",
      "21/23 [==========================>...] - ETA: 0s - loss: 0.0259 - categorical_accuracy: 0.9881\n",
      "Epoch 52: val_loss did not improve from 0.08679\n",
      "23/23 [==============================] - 1s 26ms/step - loss: 0.0243 - categorical_accuracy: 0.9889 - val_loss: 15.7178 - val_categorical_accuracy: 0.3111\n",
      "Epoch 53/1000\n",
      "21/23 [==========================>...] - ETA: 0s - loss: 0.0429 - categorical_accuracy: 0.9836\n",
      "Epoch 53: val_loss did not improve from 0.08679\n",
      "23/23 [==============================] - 1s 26ms/step - loss: 0.0405 - categorical_accuracy: 0.9847 - val_loss: 10.3168 - val_categorical_accuracy: 0.3778\n",
      "Epoch 54/1000\n",
      "22/23 [===========================>..] - ETA: 0s - loss: 0.0221 - categorical_accuracy: 0.9929\n",
      "Epoch 54: val_loss did not improve from 0.08679\n",
      "23/23 [==============================] - 1s 25ms/step - loss: 0.0217 - categorical_accuracy: 0.9931 - val_loss: 4.3872 - val_categorical_accuracy: 0.5667\n",
      "Epoch 55/1000\n",
      "21/23 [==========================>...] - ETA: 0s - loss: 0.0089 - categorical_accuracy: 0.9985\n",
      "Epoch 55: val_loss improved from 0.08679 to 0.02092, saving model to ./model_6_labels\\best_model.h5\n",
      "23/23 [==============================] - 1s 27ms/step - loss: 0.0088 - categorical_accuracy: 0.9986 - val_loss: 0.0209 - val_categorical_accuracy: 0.9889\n",
      "Epoch 56/1000\n",
      "22/23 [===========================>..] - ETA: 0s - loss: 0.0102 - categorical_accuracy: 0.9972\n",
      "Epoch 56: val_loss did not improve from 0.02092\n",
      "23/23 [==============================] - 1s 26ms/step - loss: 0.0099 - categorical_accuracy: 0.9972 - val_loss: 0.1719 - val_categorical_accuracy: 0.9500\n",
      "Epoch 57/1000\n",
      "22/23 [===========================>..] - ETA: 0s - loss: 0.0112 - categorical_accuracy: 0.9957\n",
      "Epoch 57: val_loss did not improve from 0.02092\n",
      "23/23 [==============================] - 1s 25ms/step - loss: 0.0139 - categorical_accuracy: 0.9944 - val_loss: 0.6376 - val_categorical_accuracy: 0.8333\n",
      "Epoch 58/1000\n",
      "23/23 [==============================] - ETA: 0s - loss: 0.0114 - categorical_accuracy: 0.9958\n",
      "Epoch 58: val_loss did not improve from 0.02092\n",
      "23/23 [==============================] - 1s 27ms/step - loss: 0.0114 - categorical_accuracy: 0.9958 - val_loss: 1.0240 - val_categorical_accuracy: 0.7333\n",
      "Epoch 59/1000\n",
      "21/23 [==========================>...] - ETA: 0s - loss: 0.0107 - categorical_accuracy: 0.9985\n",
      "Epoch 59: val_loss did not improve from 0.02092\n",
      "23/23 [==============================] - 1s 27ms/step - loss: 0.0100 - categorical_accuracy: 0.9986 - val_loss: 0.1745 - val_categorical_accuracy: 0.9444\n",
      "Epoch 60/1000\n",
      "22/23 [===========================>..] - ETA: 0s - loss: 0.0043 - categorical_accuracy: 1.0000\n",
      "Epoch 60: val_loss did not improve from 0.02092\n",
      "23/23 [==============================] - 1s 25ms/step - loss: 0.0042 - categorical_accuracy: 1.0000 - val_loss: 1.4761 - val_categorical_accuracy: 0.7111\n",
      "Epoch 61/1000\n",
      "23/23 [==============================] - ETA: 0s - loss: 0.0036 - categorical_accuracy: 1.0000\n",
      "Epoch 61: val_loss did not improve from 0.02092\n",
      "23/23 [==============================] - 1s 26ms/step - loss: 0.0036 - categorical_accuracy: 1.0000 - val_loss: 0.7369 - val_categorical_accuracy: 0.8056\n",
      "Epoch 62/1000\n",
      "21/23 [==========================>...] - ETA: 0s - loss: 0.0052 - categorical_accuracy: 0.9985\n",
      "Epoch 62: val_loss did not improve from 0.02092\n",
      "23/23 [==============================] - 1s 25ms/step - loss: 0.0049 - categorical_accuracy: 0.9986 - val_loss: 0.3688 - val_categorical_accuracy: 0.9167\n",
      "Epoch 63/1000\n",
      "22/23 [===========================>..] - ETA: 0s - loss: 0.0081 - categorical_accuracy: 0.9972\n",
      "Epoch 63: val_loss did not improve from 0.02092\n",
      "23/23 [==============================] - 1s 26ms/step - loss: 0.0079 - categorical_accuracy: 0.9972 - val_loss: 0.7738 - val_categorical_accuracy: 0.8056\n",
      "Epoch 64/1000\n",
      "22/23 [===========================>..] - ETA: 0s - loss: 0.0059 - categorical_accuracy: 0.9972\n",
      "Epoch 64: val_loss did not improve from 0.02092\n",
      "23/23 [==============================] - 1s 25ms/step - loss: 0.0064 - categorical_accuracy: 0.9972 - val_loss: 7.1560 - val_categorical_accuracy: 0.3222\n",
      "Epoch 65/1000\n",
      "21/23 [==========================>...] - ETA: 0s - loss: 0.0114 - categorical_accuracy: 0.9970\n",
      "Epoch 65: val_loss did not improve from 0.02092\n",
      "23/23 [==============================] - 1s 25ms/step - loss: 0.0107 - categorical_accuracy: 0.9972 - val_loss: 1.0292 - val_categorical_accuracy: 0.7556\n",
      "Epoch 66/1000\n",
      "22/23 [===========================>..] - ETA: 0s - loss: 0.0102 - categorical_accuracy: 0.9972\n",
      "Epoch 66: val_loss did not improve from 0.02092\n",
      "23/23 [==============================] - 1s 26ms/step - loss: 0.0100 - categorical_accuracy: 0.9972 - val_loss: 2.4702 - val_categorical_accuracy: 0.6278\n",
      "Epoch 67/1000\n",
      "22/23 [===========================>..] - ETA: 0s - loss: 0.0058 - categorical_accuracy: 0.9986\n",
      "Epoch 67: val_loss did not improve from 0.02092\n",
      "23/23 [==============================] - 1s 26ms/step - loss: 0.0094 - categorical_accuracy: 0.9958 - val_loss: 1.2521 - val_categorical_accuracy: 0.7556\n",
      "Epoch 68/1000\n",
      "22/23 [===========================>..] - ETA: 0s - loss: 0.0548 - categorical_accuracy: 0.9830\n",
      "Epoch 68: val_loss did not improve from 0.02092\n",
      "23/23 [==============================] - 1s 26ms/step - loss: 0.0607 - categorical_accuracy: 0.9819 - val_loss: 3.6589 - val_categorical_accuracy: 0.6389\n",
      "Epoch 69/1000\n",
      "22/23 [===========================>..] - ETA: 0s - loss: 0.0726 - categorical_accuracy: 0.9702\n",
      "Epoch 69: val_loss did not improve from 0.02092\n",
      "23/23 [==============================] - 1s 26ms/step - loss: 0.0726 - categorical_accuracy: 0.9708 - val_loss: 10.6401 - val_categorical_accuracy: 0.3111\n",
      "Epoch 70/1000\n",
      "23/23 [==============================] - ETA: 0s - loss: 0.0391 - categorical_accuracy: 0.9875\n",
      "Epoch 70: val_loss did not improve from 0.02092\n",
      "23/23 [==============================] - 1s 26ms/step - loss: 0.0391 - categorical_accuracy: 0.9875 - val_loss: 4.9403 - val_categorical_accuracy: 0.3500\n",
      "Epoch 71/1000\n",
      "21/23 [==========================>...] - ETA: 0s - loss: 0.0537 - categorical_accuracy: 0.9821\n",
      "Epoch 71: val_loss did not improve from 0.02092\n",
      "23/23 [==============================] - 1s 26ms/step - loss: 0.0706 - categorical_accuracy: 0.9806 - val_loss: 1.9768 - val_categorical_accuracy: 0.6222\n",
      "Epoch 72/1000\n",
      "22/23 [===========================>..] - ETA: 0s - loss: 0.1291 - categorical_accuracy: 0.9616\n",
      "Epoch 72: val_loss did not improve from 0.02092\n",
      "23/23 [==============================] - 1s 26ms/step - loss: 0.1266 - categorical_accuracy: 0.9625 - val_loss: 16.3278 - val_categorical_accuracy: 0.1778\n",
      "Epoch 73/1000\n",
      "22/23 [===========================>..] - ETA: 0s - loss: 0.0558 - categorical_accuracy: 0.9844\n",
      "Epoch 73: val_loss did not improve from 0.02092\n",
      "23/23 [==============================] - 1s 25ms/step - loss: 0.0546 - categorical_accuracy: 0.9847 - val_loss: 4.3209 - val_categorical_accuracy: 0.5611\n",
      "Epoch 74/1000\n",
      "21/23 [==========================>...] - ETA: 0s - loss: 0.0354 - categorical_accuracy: 0.9896\n",
      "Epoch 74: val_loss did not improve from 0.02092\n",
      "23/23 [==============================] - 1s 26ms/step - loss: 0.0354 - categorical_accuracy: 0.9889 - val_loss: 6.5959 - val_categorical_accuracy: 0.4722\n",
      "Epoch 75/1000\n",
      "22/23 [===========================>..] - ETA: 0s - loss: 0.0299 - categorical_accuracy: 0.9886\n",
      "Epoch 75: val_loss did not improve from 0.02092\n",
      "23/23 [==============================] - 1s 25ms/step - loss: 0.0293 - categorical_accuracy: 0.9889 - val_loss: 5.3980 - val_categorical_accuracy: 0.4944\n",
      "Epoch 76/1000\n",
      "22/23 [===========================>..] - ETA: 0s - loss: 0.0314 - categorical_accuracy: 0.9872\n",
      "Epoch 76: val_loss did not improve from 0.02092\n",
      "23/23 [==============================] - 1s 25ms/step - loss: 0.0307 - categorical_accuracy: 0.9875 - val_loss: 10.4781 - val_categorical_accuracy: 0.2222\n",
      "Epoch 77/1000\n",
      "22/23 [===========================>..] - ETA: 0s - loss: 0.0433 - categorical_accuracy: 0.9886\n",
      "Epoch 77: val_loss did not improve from 0.02092\n",
      "23/23 [==============================] - 1s 25ms/step - loss: 0.0440 - categorical_accuracy: 0.9875 - val_loss: 14.2346 - val_categorical_accuracy: 0.2333\n",
      "Epoch 78/1000\n",
      "22/23 [===========================>..] - ETA: 0s - loss: 0.0461 - categorical_accuracy: 0.9844\n",
      "Epoch 78: val_loss did not improve from 0.02092\n",
      "23/23 [==============================] - 1s 29ms/step - loss: 0.0461 - categorical_accuracy: 0.9847 - val_loss: 1.3106 - val_categorical_accuracy: 0.6667\n",
      "Epoch 79/1000\n",
      "23/23 [==============================] - ETA: 0s - loss: 0.0330 - categorical_accuracy: 0.9861\n",
      "Epoch 79: val_loss did not improve from 0.02092\n",
      "23/23 [==============================] - 1s 26ms/step - loss: 0.0330 - categorical_accuracy: 0.9861 - val_loss: 4.0080 - val_categorical_accuracy: 0.4611\n",
      "Epoch 80/1000\n",
      "21/23 [==========================>...] - ETA: 0s - loss: 0.0740 - categorical_accuracy: 0.9777\n",
      "Epoch 80: val_loss did not improve from 0.02092\n",
      "23/23 [==============================] - 1s 27ms/step - loss: 0.0713 - categorical_accuracy: 0.9792 - val_loss: 6.1220 - val_categorical_accuracy: 0.5944\n",
      "Epoch 81/1000\n",
      "21/23 [==========================>...] - ETA: 0s - loss: 0.0327 - categorical_accuracy: 0.9896\n",
      "Epoch 81: val_loss did not improve from 0.02092\n",
      "23/23 [==============================] - 1s 27ms/step - loss: 0.0308 - categorical_accuracy: 0.9903 - val_loss: 5.6969 - val_categorical_accuracy: 0.4333\n",
      "Epoch 82/1000\n",
      "22/23 [===========================>..] - ETA: 0s - loss: 0.0437 - categorical_accuracy: 0.9872\n",
      "Epoch 82: val_loss did not improve from 0.02092\n",
      "23/23 [==============================] - 1s 26ms/step - loss: 0.0432 - categorical_accuracy: 0.9875 - val_loss: 3.3403 - val_categorical_accuracy: 0.6889\n",
      "Epoch 83/1000\n",
      "22/23 [===========================>..] - ETA: 0s - loss: 0.0243 - categorical_accuracy: 0.9929\n",
      "Epoch 83: val_loss did not improve from 0.02092\n",
      "23/23 [==============================] - 1s 26ms/step - loss: 0.0240 - categorical_accuracy: 0.9931 - val_loss: 9.0393 - val_categorical_accuracy: 0.3944\n",
      "Epoch 84/1000\n",
      "23/23 [==============================] - ETA: 0s - loss: 0.0131 - categorical_accuracy: 0.9958\n",
      "Epoch 84: val_loss did not improve from 0.02092\n",
      "23/23 [==============================] - 1s 28ms/step - loss: 0.0131 - categorical_accuracy: 0.9958 - val_loss: 3.0983 - val_categorical_accuracy: 0.6167\n",
      "Epoch 85/1000\n",
      "21/23 [==========================>...] - ETA: 0s - loss: 0.0062 - categorical_accuracy: 0.9985\n",
      "Epoch 85: val_loss did not improve from 0.02092\n",
      "23/23 [==============================] - 1s 26ms/step - loss: 0.0066 - categorical_accuracy: 0.9986 - val_loss: 0.5138 - val_categorical_accuracy: 0.8889\n",
      "Epoch 86/1000\n",
      "22/23 [===========================>..] - ETA: 0s - loss: 0.0123 - categorical_accuracy: 0.9972\n",
      "Epoch 86: val_loss did not improve from 0.02092\n",
      "23/23 [==============================] - 1s 27ms/step - loss: 0.0120 - categorical_accuracy: 0.9972 - val_loss: 14.7586 - val_categorical_accuracy: 0.1667\n",
      "Epoch 87/1000\n",
      "22/23 [===========================>..] - ETA: 0s - loss: 0.0289 - categorical_accuracy: 0.9915\n",
      "Epoch 87: val_loss did not improve from 0.02092\n",
      "23/23 [==============================] - 1s 26ms/step - loss: 0.0329 - categorical_accuracy: 0.9903 - val_loss: 1.6247 - val_categorical_accuracy: 0.6222\n",
      "Epoch 88/1000\n",
      "23/23 [==============================] - ETA: 0s - loss: 0.0272 - categorical_accuracy: 0.9917\n",
      "Epoch 88: val_loss did not improve from 0.02092\n",
      "23/23 [==============================] - 1s 27ms/step - loss: 0.0272 - categorical_accuracy: 0.9917 - val_loss: 10.9629 - val_categorical_accuracy: 0.2444\n",
      "Epoch 89/1000\n",
      "22/23 [===========================>..] - ETA: 0s - loss: 0.0093 - categorical_accuracy: 0.9957\n",
      "Epoch 89: val_loss did not improve from 0.02092\n",
      "23/23 [==============================] - 1s 26ms/step - loss: 0.0091 - categorical_accuracy: 0.9958 - val_loss: 1.9626 - val_categorical_accuracy: 0.6056\n",
      "Epoch 90/1000\n",
      "21/23 [==========================>...] - ETA: 0s - loss: 0.0174 - categorical_accuracy: 0.9940\n",
      "Epoch 90: val_loss did not improve from 0.02092\n",
      "23/23 [==============================] - 1s 26ms/step - loss: 0.0172 - categorical_accuracy: 0.9944 - val_loss: 1.1192 - val_categorical_accuracy: 0.7944\n",
      "Epoch 91/1000\n",
      "22/23 [===========================>..] - ETA: 0s - loss: 0.0084 - categorical_accuracy: 0.9972\n",
      "Epoch 91: val_loss did not improve from 0.02092\n",
      "23/23 [==============================] - 1s 26ms/step - loss: 0.0082 - categorical_accuracy: 0.9972 - val_loss: 4.9363 - val_categorical_accuracy: 0.3944\n",
      "Epoch 92/1000\n",
      "22/23 [===========================>..] - ETA: 0s - loss: 0.0039 - categorical_accuracy: 1.0000\n",
      "Epoch 92: val_loss did not improve from 0.02092\n",
      "23/23 [==============================] - 1s 27ms/step - loss: 0.0038 - categorical_accuracy: 1.0000 - val_loss: 0.5337 - val_categorical_accuracy: 0.8500\n",
      "Epoch 93/1000\n",
      "22/23 [===========================>..] - ETA: 0s - loss: 0.0016 - categorical_accuracy: 1.0000\n",
      "Epoch 93: val_loss did not improve from 0.02092\n",
      "23/23 [==============================] - 1s 26ms/step - loss: 0.0019 - categorical_accuracy: 1.0000 - val_loss: 0.1111 - val_categorical_accuracy: 0.9722\n",
      "Epoch 94/1000\n",
      "22/23 [===========================>..] - ETA: 0s - loss: 0.0116 - categorical_accuracy: 0.9972\n",
      "Epoch 94: val_loss did not improve from 0.02092\n",
      "23/23 [==============================] - 1s 25ms/step - loss: 0.0113 - categorical_accuracy: 0.9972 - val_loss: 1.0974 - val_categorical_accuracy: 0.7333\n",
      "Epoch 95/1000\n",
      "21/23 [==========================>...] - ETA: 0s - loss: 0.0169 - categorical_accuracy: 0.9970\n",
      "Epoch 95: val_loss did not improve from 0.02092\n",
      "23/23 [==============================] - 1s 28ms/step - loss: 0.0159 - categorical_accuracy: 0.9972 - val_loss: 3.1805 - val_categorical_accuracy: 0.6611\n",
      "Epoch 96/1000\n",
      "23/23 [==============================] - ETA: 0s - loss: 0.0173 - categorical_accuracy: 0.9931\n",
      "Epoch 96: val_loss did not improve from 0.02092\n",
      "23/23 [==============================] - 1s 28ms/step - loss: 0.0173 - categorical_accuracy: 0.9931 - val_loss: 7.9551 - val_categorical_accuracy: 0.3722\n",
      "Epoch 97/1000\n",
      "22/23 [===========================>..] - ETA: 0s - loss: 0.0160 - categorical_accuracy: 0.9972\n",
      "Epoch 97: val_loss did not improve from 0.02092\n",
      "23/23 [==============================] - 1s 31ms/step - loss: 0.0156 - categorical_accuracy: 0.9972 - val_loss: 7.7933 - val_categorical_accuracy: 0.3944\n",
      "Epoch 98/1000\n",
      "23/23 [==============================] - ETA: 0s - loss: 0.0042 - categorical_accuracy: 1.0000\n",
      "Epoch 98: val_loss did not improve from 0.02092\n",
      "23/23 [==============================] - 1s 31ms/step - loss: 0.0042 - categorical_accuracy: 1.0000 - val_loss: 1.6022 - val_categorical_accuracy: 0.7111\n",
      "Epoch 99/1000\n",
      "21/23 [==========================>...] - ETA: 0s - loss: 0.0044 - categorical_accuracy: 0.9985\n",
      "Epoch 99: val_loss did not improve from 0.02092\n",
      "23/23 [==============================] - 1s 27ms/step - loss: 0.0061 - categorical_accuracy: 0.9972 - val_loss: 4.4053 - val_categorical_accuracy: 0.5167\n",
      "Epoch 100/1000\n",
      "22/23 [===========================>..] - ETA: 0s - loss: 0.0117 - categorical_accuracy: 0.9943\n",
      "Epoch 100: val_loss did not improve from 0.02092\n",
      "23/23 [==============================] - 1s 26ms/step - loss: 0.0115 - categorical_accuracy: 0.9944 - val_loss: 0.1903 - val_categorical_accuracy: 0.9222\n",
      "Epoch 101/1000\n",
      "22/23 [===========================>..] - ETA: 0s - loss: 0.0094 - categorical_accuracy: 0.9957\n",
      "Epoch 101: val_loss did not improve from 0.02092\n",
      "23/23 [==============================] - 1s 26ms/step - loss: 0.0092 - categorical_accuracy: 0.9958 - val_loss: 3.6830 - val_categorical_accuracy: 0.5222\n",
      "Epoch 102/1000\n",
      "22/23 [===========================>..] - ETA: 0s - loss: 0.0040 - categorical_accuracy: 0.9986\n",
      "Epoch 102: val_loss did not improve from 0.02092\n",
      "23/23 [==============================] - 1s 26ms/step - loss: 0.0040 - categorical_accuracy: 0.9986 - val_loss: 0.7232 - val_categorical_accuracy: 0.7944\n",
      "Epoch 103/1000\n",
      "23/23 [==============================] - ETA: 0s - loss: 0.0022 - categorical_accuracy: 1.0000\n",
      "Epoch 103: val_loss did not improve from 0.02092\n",
      "23/23 [==============================] - 1s 28ms/step - loss: 0.0022 - categorical_accuracy: 1.0000 - val_loss: 0.2522 - val_categorical_accuracy: 0.9111\n",
      "Epoch 104/1000\n",
      "22/23 [===========================>..] - ETA: 0s - loss: 0.0010 - categorical_accuracy: 1.0000\n",
      "Epoch 104: val_loss did not improve from 0.02092\n",
      "23/23 [==============================] - 1s 26ms/step - loss: 0.0010 - categorical_accuracy: 1.0000 - val_loss: 0.0418 - val_categorical_accuracy: 0.9889\n",
      "Epoch 105/1000\n",
      "22/23 [===========================>..] - ETA: 0s - loss: 0.0045 - categorical_accuracy: 1.0000\n",
      "Epoch 105: val_loss did not improve from 0.02092\n",
      "23/23 [==============================] - 1s 26ms/step - loss: 0.0045 - categorical_accuracy: 1.0000 - val_loss: 1.1960 - val_categorical_accuracy: 0.7333\n",
      "Epoch 106/1000\n",
      "22/23 [===========================>..] - ETA: 0s - loss: 0.0131 - categorical_accuracy: 0.9972\n",
      "Epoch 106: val_loss did not improve from 0.02092\n",
      "23/23 [==============================] - 1s 26ms/step - loss: 0.0128 - categorical_accuracy: 0.9972 - val_loss: 3.9696 - val_categorical_accuracy: 0.5889\n",
      "Epoch 107/1000\n",
      "21/23 [==========================>...] - ETA: 0s - loss: 0.0672 - categorical_accuracy: 0.9792\n",
      "Epoch 107: val_loss did not improve from 0.02092\n",
      "23/23 [==============================] - 1s 27ms/step - loss: 0.0631 - categorical_accuracy: 0.9806 - val_loss: 7.0770 - val_categorical_accuracy: 0.4667\n",
      "Epoch 108/1000\n",
      "22/23 [===========================>..] - ETA: 0s - loss: 0.0566 - categorical_accuracy: 0.9801\n",
      "Epoch 108: val_loss did not improve from 0.02092\n",
      "23/23 [==============================] - 1s 26ms/step - loss: 0.0553 - categorical_accuracy: 0.9806 - val_loss: 5.8400 - val_categorical_accuracy: 0.5056\n",
      "Epoch 109/1000\n",
      "21/23 [==========================>...] - ETA: 0s - loss: 0.0525 - categorical_accuracy: 0.9851\n",
      "Epoch 109: val_loss did not improve from 0.02092\n",
      "23/23 [==============================] - 1s 27ms/step - loss: 0.0540 - categorical_accuracy: 0.9833 - val_loss: 7.4498 - val_categorical_accuracy: 0.3778\n",
      "Epoch 110/1000\n",
      "23/23 [==============================] - ETA: 0s - loss: 0.0253 - categorical_accuracy: 0.9931\n",
      "Epoch 110: val_loss did not improve from 0.02092\n",
      "23/23 [==============================] - 1s 27ms/step - loss: 0.0253 - categorical_accuracy: 0.9931 - val_loss: 8.0350 - val_categorical_accuracy: 0.3278\n",
      "Epoch 111/1000\n",
      "23/23 [==============================] - ETA: 0s - loss: 0.0216 - categorical_accuracy: 0.9958\n",
      "Epoch 111: val_loss did not improve from 0.02092\n",
      "23/23 [==============================] - 1s 28ms/step - loss: 0.0216 - categorical_accuracy: 0.9958 - val_loss: 2.9224 - val_categorical_accuracy: 0.7056\n",
      "Epoch 112/1000\n",
      "23/23 [==============================] - ETA: 0s - loss: 0.0098 - categorical_accuracy: 0.9972\n",
      "Epoch 112: val_loss did not improve from 0.02092\n",
      "23/23 [==============================] - 1s 31ms/step - loss: 0.0098 - categorical_accuracy: 0.9972 - val_loss: 5.4948 - val_categorical_accuracy: 0.3833\n",
      "Epoch 113/1000\n",
      "22/23 [===========================>..] - ETA: 0s - loss: 0.0164 - categorical_accuracy: 0.9957\n",
      "Epoch 113: val_loss did not improve from 0.02092\n",
      "23/23 [==============================] - 1s 30ms/step - loss: 0.0161 - categorical_accuracy: 0.9958 - val_loss: 1.9967 - val_categorical_accuracy: 0.7722\n",
      "Epoch 114/1000\n",
      "21/23 [==========================>...] - ETA: 0s - loss: 0.0216 - categorical_accuracy: 0.9911\n",
      "Epoch 114: val_loss did not improve from 0.02092\n",
      "23/23 [==============================] - 1s 26ms/step - loss: 0.0203 - categorical_accuracy: 0.9917 - val_loss: 6.7059 - val_categorical_accuracy: 0.4722\n",
      "Epoch 115/1000\n",
      "22/23 [===========================>..] - ETA: 0s - loss: 0.0271 - categorical_accuracy: 0.9929\n",
      "Epoch 115: val_loss did not improve from 0.02092\n",
      "23/23 [==============================] - 1s 25ms/step - loss: 0.0267 - categorical_accuracy: 0.9931 - val_loss: 2.5367 - val_categorical_accuracy: 0.5556\n",
      "Epoch 116/1000\n",
      "23/23 [==============================] - ETA: 0s - loss: 0.0265 - categorical_accuracy: 0.9944\n",
      "Epoch 116: val_loss did not improve from 0.02092\n",
      "23/23 [==============================] - 1s 27ms/step - loss: 0.0265 - categorical_accuracy: 0.9944 - val_loss: 6.5999 - val_categorical_accuracy: 0.4056\n",
      "Epoch 117/1000\n",
      "22/23 [===========================>..] - ETA: 0s - loss: 0.0065 - categorical_accuracy: 1.0000\n",
      "Epoch 117: val_loss did not improve from 0.02092\n",
      "23/23 [==============================] - 1s 25ms/step - loss: 0.0066 - categorical_accuracy: 1.0000 - val_loss: 8.0575 - val_categorical_accuracy: 0.4167\n",
      "Epoch 118/1000\n",
      "22/23 [===========================>..] - ETA: 0s - loss: 0.0021 - categorical_accuracy: 1.0000\n",
      "Epoch 118: val_loss did not improve from 0.02092\n",
      "23/23 [==============================] - 1s 25ms/step - loss: 0.0023 - categorical_accuracy: 1.0000 - val_loss: 2.6768 - val_categorical_accuracy: 0.6111\n",
      "Epoch 119/1000\n",
      "22/23 [===========================>..] - ETA: 0s - loss: 0.0039 - categorical_accuracy: 0.9986\n",
      "Epoch 119: val_loss did not improve from 0.02092\n",
      "23/23 [==============================] - 1s 26ms/step - loss: 0.0080 - categorical_accuracy: 0.9958 - val_loss: 7.8260 - val_categorical_accuracy: 0.3944\n",
      "Epoch 120/1000\n",
      "21/23 [==========================>...] - ETA: 0s - loss: 0.0194 - categorical_accuracy: 0.9970\n",
      "Epoch 120: val_loss did not improve from 0.02092\n",
      "23/23 [==============================] - 1s 27ms/step - loss: 0.0181 - categorical_accuracy: 0.9972 - val_loss: 6.3244 - val_categorical_accuracy: 0.3667\n",
      "Epoch 121/1000\n",
      "21/23 [==========================>...] - ETA: 0s - loss: 0.0153 - categorical_accuracy: 0.9940\n",
      "Epoch 121: val_loss did not improve from 0.02092\n",
      "23/23 [==============================] - 1s 29ms/step - loss: 0.0180 - categorical_accuracy: 0.9931 - val_loss: 1.8912 - val_categorical_accuracy: 0.5889\n",
      "Epoch 122/1000\n",
      "23/23 [==============================] - ETA: 0s - loss: 0.0097 - categorical_accuracy: 0.9972\n",
      "Epoch 122: val_loss did not improve from 0.02092\n",
      "23/23 [==============================] - 1s 28ms/step - loss: 0.0097 - categorical_accuracy: 0.9972 - val_loss: 2.6352 - val_categorical_accuracy: 0.6444\n",
      "Epoch 123/1000\n",
      "22/23 [===========================>..] - ETA: 0s - loss: 0.0038 - categorical_accuracy: 0.9986\n",
      "Epoch 123: val_loss did not improve from 0.02092\n",
      "23/23 [==============================] - 1s 26ms/step - loss: 0.0037 - categorical_accuracy: 0.9986 - val_loss: 0.1369 - val_categorical_accuracy: 0.9556\n",
      "Epoch 124/1000\n",
      "22/23 [===========================>..] - ETA: 0s - loss: 0.0046 - categorical_accuracy: 0.9986\n",
      "Epoch 124: val_loss did not improve from 0.02092\n",
      "23/23 [==============================] - 1s 26ms/step - loss: 0.0045 - categorical_accuracy: 0.9986 - val_loss: 0.5250 - val_categorical_accuracy: 0.8333\n",
      "Epoch 125/1000\n",
      "22/23 [===========================>..] - ETA: 0s - loss: 0.0091 - categorical_accuracy: 0.9957\n",
      "Epoch 125: val_loss did not improve from 0.02092\n",
      "23/23 [==============================] - 1s 27ms/step - loss: 0.0090 - categorical_accuracy: 0.9958 - val_loss: 3.3094 - val_categorical_accuracy: 0.5333\n",
      "Epoch 126/1000\n",
      "22/23 [===========================>..] - ETA: 0s - loss: 0.0095 - categorical_accuracy: 0.9972\n",
      "Epoch 126: val_loss did not improve from 0.02092\n",
      "23/23 [==============================] - 1s 26ms/step - loss: 0.0154 - categorical_accuracy: 0.9958 - val_loss: 1.6528 - val_categorical_accuracy: 0.6667\n",
      "Epoch 127/1000\n",
      "22/23 [===========================>..] - ETA: 0s - loss: 0.0186 - categorical_accuracy: 0.9943\n",
      "Epoch 127: val_loss did not improve from 0.02092\n",
      "23/23 [==============================] - 1s 26ms/step - loss: 0.0182 - categorical_accuracy: 0.9944 - val_loss: 0.3378 - val_categorical_accuracy: 0.8722\n",
      "Epoch 128/1000\n",
      "21/23 [==========================>...] - ETA: 0s - loss: 0.0858 - categorical_accuracy: 0.9807\n",
      "Epoch 128: val_loss did not improve from 0.02092\n",
      "23/23 [==============================] - 1s 27ms/step - loss: 0.0843 - categorical_accuracy: 0.9806 - val_loss: 9.5090 - val_categorical_accuracy: 0.4278\n",
      "Epoch 129/1000\n",
      "21/23 [==========================>...] - ETA: 0s - loss: 0.0255 - categorical_accuracy: 0.9881\n",
      "Epoch 129: val_loss did not improve from 0.02092\n",
      "23/23 [==============================] - 1s 28ms/step - loss: 0.0240 - categorical_accuracy: 0.9889 - val_loss: 7.5574 - val_categorical_accuracy: 0.4056\n",
      "Epoch 130/1000\n",
      "23/23 [==============================] - ETA: 0s - loss: 0.0277 - categorical_accuracy: 0.9931\n",
      "Epoch 130: val_loss did not improve from 0.02092\n",
      "23/23 [==============================] - 1s 28ms/step - loss: 0.0277 - categorical_accuracy: 0.9931 - val_loss: 32.4561 - val_categorical_accuracy: 0.1444\n",
      "Epoch 131/1000\n",
      "23/23 [==============================] - ETA: 0s - loss: 0.0372 - categorical_accuracy: 0.9861\n",
      "Epoch 131: val_loss did not improve from 0.02092\n",
      "23/23 [==============================] - 1s 28ms/step - loss: 0.0372 - categorical_accuracy: 0.9861 - val_loss: 8.7190 - val_categorical_accuracy: 0.3778\n",
      "Epoch 132/1000\n",
      "23/23 [==============================] - ETA: 0s - loss: 0.0430 - categorical_accuracy: 0.9847\n",
      "Epoch 132: val_loss did not improve from 0.02092\n",
      "23/23 [==============================] - 1s 28ms/step - loss: 0.0430 - categorical_accuracy: 0.9847 - val_loss: 12.3027 - val_categorical_accuracy: 0.2056\n",
      "Epoch 133/1000\n",
      "22/23 [===========================>..] - ETA: 0s - loss: 0.0533 - categorical_accuracy: 0.9815\n",
      "Epoch 133: val_loss did not improve from 0.02092\n",
      "23/23 [==============================] - 1s 26ms/step - loss: 0.0533 - categorical_accuracy: 0.9819 - val_loss: 18.9044 - val_categorical_accuracy: 0.1778\n",
      "Epoch 134/1000\n",
      "22/23 [===========================>..] - ETA: 0s - loss: 0.0326 - categorical_accuracy: 0.9901\n",
      "Epoch 134: val_loss did not improve from 0.02092\n",
      "23/23 [==============================] - 1s 26ms/step - loss: 0.0332 - categorical_accuracy: 0.9889 - val_loss: 10.9579 - val_categorical_accuracy: 0.1944\n",
      "Epoch 135/1000\n",
      "21/23 [==========================>...] - ETA: 0s - loss: 0.0095 - categorical_accuracy: 0.9985\n",
      "Epoch 135: val_loss did not improve from 0.02092\n",
      "23/23 [==============================] - 1s 30ms/step - loss: 0.0101 - categorical_accuracy: 0.9972 - val_loss: 0.7842 - val_categorical_accuracy: 0.7667\n",
      "Epoch 136/1000\n",
      "22/23 [===========================>..] - ETA: 0s - loss: 0.0038 - categorical_accuracy: 0.9986\n",
      "Epoch 136: val_loss did not improve from 0.02092\n",
      "23/23 [==============================] - 1s 27ms/step - loss: 0.0037 - categorical_accuracy: 0.9986 - val_loss: 0.4360 - val_categorical_accuracy: 0.8611\n",
      "Epoch 137/1000\n",
      "21/23 [==========================>...] - ETA: 0s - loss: 0.0239 - categorical_accuracy: 0.9940\n",
      "Epoch 137: val_loss did not improve from 0.02092\n",
      "23/23 [==============================] - 1s 26ms/step - loss: 0.0223 - categorical_accuracy: 0.9944 - val_loss: 1.7096 - val_categorical_accuracy: 0.6000\n",
      "Epoch 138/1000\n",
      "22/23 [===========================>..] - ETA: 0s - loss: 0.0174 - categorical_accuracy: 0.9957\n",
      "Epoch 138: val_loss did not improve from 0.02092\n",
      "23/23 [==============================] - 1s 25ms/step - loss: 0.0171 - categorical_accuracy: 0.9958 - val_loss: 7.4614 - val_categorical_accuracy: 0.3944\n",
      "Epoch 139/1000\n",
      "22/23 [===========================>..] - ETA: 0s - loss: 0.0094 - categorical_accuracy: 0.9957\n",
      "Epoch 139: val_loss did not improve from 0.02092\n",
      "23/23 [==============================] - 1s 26ms/step - loss: 0.0097 - categorical_accuracy: 0.9958 - val_loss: 0.1751 - val_categorical_accuracy: 0.9444\n",
      "Epoch 140/1000\n",
      "22/23 [===========================>..] - ETA: 0s - loss: 0.0068 - categorical_accuracy: 0.9972\n",
      "Epoch 140: val_loss did not improve from 0.02092\n",
      "23/23 [==============================] - 1s 25ms/step - loss: 0.0067 - categorical_accuracy: 0.9972 - val_loss: 2.6344 - val_categorical_accuracy: 0.5722\n",
      "Epoch 141/1000\n",
      "23/23 [==============================] - ETA: 0s - loss: 0.0047 - categorical_accuracy: 0.9986\n",
      "Epoch 141: val_loss did not improve from 0.02092\n",
      "23/23 [==============================] - 1s 29ms/step - loss: 0.0047 - categorical_accuracy: 0.9986 - val_loss: 0.2540 - val_categorical_accuracy: 0.9333\n",
      "Epoch 142/1000\n",
      "22/23 [===========================>..] - ETA: 0s - loss: 0.0064 - categorical_accuracy: 0.9986\n",
      "Epoch 142: val_loss did not improve from 0.02092\n",
      "23/23 [==============================] - 1s 26ms/step - loss: 0.0081 - categorical_accuracy: 0.9972 - val_loss: 0.2030 - val_categorical_accuracy: 0.9333\n",
      "Epoch 143/1000\n",
      "22/23 [===========================>..] - ETA: 0s - loss: 0.0074 - categorical_accuracy: 0.9986\n",
      "Epoch 143: val_loss did not improve from 0.02092\n",
      "23/23 [==============================] - 1s 26ms/step - loss: 0.0072 - categorical_accuracy: 0.9986 - val_loss: 1.6610 - val_categorical_accuracy: 0.7278\n",
      "Epoch 144/1000\n",
      "22/23 [===========================>..] - ETA: 0s - loss: 0.0086 - categorical_accuracy: 0.9972\n",
      "Epoch 144: val_loss did not improve from 0.02092\n",
      "23/23 [==============================] - 1s 26ms/step - loss: 0.0084 - categorical_accuracy: 0.9972 - val_loss: 3.7329 - val_categorical_accuracy: 0.5333\n",
      "Epoch 145/1000\n",
      "22/23 [===========================>..] - ETA: 0s - loss: 0.0034 - categorical_accuracy: 1.0000\n",
      "Epoch 145: val_loss did not improve from 0.02092\n",
      "23/23 [==============================] - 1s 26ms/step - loss: 0.0033 - categorical_accuracy: 1.0000 - val_loss: 4.8416 - val_categorical_accuracy: 0.4889\n",
      "Epoch 146/1000\n",
      "22/23 [===========================>..] - ETA: 0s - loss: 0.0058 - categorical_accuracy: 0.9986\n",
      "Epoch 146: val_loss did not improve from 0.02092\n",
      "23/23 [==============================] - 1s 26ms/step - loss: 0.0056 - categorical_accuracy: 0.9986 - val_loss: 2.0596 - val_categorical_accuracy: 0.7000\n",
      "Epoch 147/1000\n",
      "21/23 [==========================>...] - ETA: 0s - loss: 0.0023 - categorical_accuracy: 0.9985\n",
      "Epoch 147: val_loss did not improve from 0.02092\n",
      "23/23 [==============================] - 1s 26ms/step - loss: 0.0143 - categorical_accuracy: 0.9944 - val_loss: 0.5253 - val_categorical_accuracy: 0.8611\n",
      "Epoch 148/1000\n",
      "22/23 [===========================>..] - ETA: 0s - loss: 0.0338 - categorical_accuracy: 0.9886\n",
      "Epoch 148: val_loss did not improve from 0.02092\n",
      "23/23 [==============================] - 1s 26ms/step - loss: 0.0332 - categorical_accuracy: 0.9889 - val_loss: 5.9165 - val_categorical_accuracy: 0.4389\n",
      "Epoch 149/1000\n",
      "22/23 [===========================>..] - ETA: 0s - loss: 0.0173 - categorical_accuracy: 0.9972\n",
      "Epoch 149: val_loss did not improve from 0.02092\n",
      "23/23 [==============================] - 1s 26ms/step - loss: 0.0169 - categorical_accuracy: 0.9972 - val_loss: 4.4331 - val_categorical_accuracy: 0.4778\n",
      "Epoch 150/1000\n",
      "22/23 [===========================>..] - ETA: 0s - loss: 0.0106 - categorical_accuracy: 0.9943\n",
      "Epoch 150: val_loss did not improve from 0.02092\n",
      "23/23 [==============================] - 1s 26ms/step - loss: 0.0106 - categorical_accuracy: 0.9944 - val_loss: 4.1966 - val_categorical_accuracy: 0.5667\n",
      "Epoch 151/1000\n",
      "22/23 [===========================>..] - ETA: 0s - loss: 0.0049 - categorical_accuracy: 0.9986\n",
      "Epoch 151: val_loss did not improve from 0.02092\n",
      "23/23 [==============================] - 1s 26ms/step - loss: 0.0051 - categorical_accuracy: 0.9986 - val_loss: 3.4922 - val_categorical_accuracy: 0.6667\n",
      "Epoch 152/1000\n",
      "22/23 [===========================>..] - ETA: 0s - loss: 0.0049 - categorical_accuracy: 0.9986\n",
      "Epoch 152: val_loss did not improve from 0.02092\n",
      "23/23 [==============================] - 1s 25ms/step - loss: 0.0048 - categorical_accuracy: 0.9986 - val_loss: 0.2231 - val_categorical_accuracy: 0.9278\n",
      "Epoch 153/1000\n",
      "21/23 [==========================>...] - ETA: 0s - loss: 0.0013 - categorical_accuracy: 1.0000\n",
      "Epoch 153: val_loss did not improve from 0.02092\n",
      "23/23 [==============================] - 1s 26ms/step - loss: 0.0021 - categorical_accuracy: 1.0000 - val_loss: 0.3545 - val_categorical_accuracy: 0.9111\n",
      "Epoch 154/1000\n",
      "22/23 [===========================>..] - ETA: 0s - loss: 0.0029 - categorical_accuracy: 1.0000\n",
      "Epoch 154: val_loss did not improve from 0.02092\n",
      "23/23 [==============================] - 1s 26ms/step - loss: 0.0031 - categorical_accuracy: 1.0000 - val_loss: 4.0511 - val_categorical_accuracy: 0.5833\n",
      "Epoch 155/1000\n",
      "22/23 [===========================>..] - ETA: 0s - loss: 0.0019 - categorical_accuracy: 1.0000\n",
      "Epoch 155: val_loss did not improve from 0.02092\n",
      "23/23 [==============================] - 1s 26ms/step - loss: 0.0019 - categorical_accuracy: 1.0000 - val_loss: 2.4894 - val_categorical_accuracy: 0.6667\n",
      "Epoch 156/1000\n",
      "22/23 [===========================>..] - ETA: 0s - loss: 0.0012 - categorical_accuracy: 1.0000\n",
      "Epoch 156: val_loss did not improve from 0.02092\n",
      "23/23 [==============================] - 1s 25ms/step - loss: 0.0012 - categorical_accuracy: 1.0000 - val_loss: 1.0414 - val_categorical_accuracy: 0.7944\n",
      "Epoch 157/1000\n",
      "22/23 [===========================>..] - ETA: 0s - loss: 7.2799e-04 - categorical_accuracy: 1.0000\n",
      "Epoch 157: val_loss did not improve from 0.02092\n",
      "23/23 [==============================] - 1s 26ms/step - loss: 7.1410e-04 - categorical_accuracy: 1.0000 - val_loss: 0.0817 - val_categorical_accuracy: 0.9722\n",
      "Epoch 158/1000\n",
      "21/23 [==========================>...] - ETA: 0s - loss: 7.8689e-04 - categorical_accuracy: 1.0000\n",
      "Epoch 158: val_loss did not improve from 0.02092\n",
      "23/23 [==============================] - 1s 26ms/step - loss: 7.8601e-04 - categorical_accuracy: 1.0000 - val_loss: 0.0262 - val_categorical_accuracy: 0.9889\n",
      "Epoch 159/1000\n",
      "22/23 [===========================>..] - ETA: 0s - loss: 0.0015 - categorical_accuracy: 0.9986\n",
      "Epoch 159: val_loss did not improve from 0.02092\n",
      "23/23 [==============================] - 1s 26ms/step - loss: 0.0015 - categorical_accuracy: 0.9986 - val_loss: 0.1547 - val_categorical_accuracy: 0.9556\n",
      "Epoch 160/1000\n",
      "22/23 [===========================>..] - ETA: 0s - loss: 0.0017 - categorical_accuracy: 0.9986\n",
      "Epoch 160: val_loss did not improve from 0.02092\n",
      "23/23 [==============================] - 1s 26ms/step - loss: 0.0016 - categorical_accuracy: 0.9986 - val_loss: 9.6980 - val_categorical_accuracy: 0.3389\n",
      "Epoch 161/1000\n",
      "22/23 [===========================>..] - ETA: 0s - loss: 0.0044 - categorical_accuracy: 0.9986\n",
      "Epoch 161: val_loss did not improve from 0.02092\n",
      "23/23 [==============================] - 1s 26ms/step - loss: 0.0043 - categorical_accuracy: 0.9986 - val_loss: 1.8812 - val_categorical_accuracy: 0.6611\n",
      "Epoch 162/1000\n",
      "22/23 [===========================>..] - ETA: 0s - loss: 0.0039 - categorical_accuracy: 0.9986\n",
      "Epoch 162: val_loss did not improve from 0.02092\n",
      "23/23 [==============================] - 1s 25ms/step - loss: 0.0038 - categorical_accuracy: 0.9986 - val_loss: 0.8404 - val_categorical_accuracy: 0.8111\n",
      "Epoch 163/1000\n",
      "22/23 [===========================>..] - ETA: 0s - loss: 0.0036 - categorical_accuracy: 0.9986\n",
      "Epoch 163: val_loss did not improve from 0.02092\n",
      "23/23 [==============================] - 1s 26ms/step - loss: 0.0036 - categorical_accuracy: 0.9986 - val_loss: 0.0762 - val_categorical_accuracy: 0.9722\n",
      "Epoch 164/1000\n",
      "22/23 [===========================>..] - ETA: 0s - loss: 0.0011 - categorical_accuracy: 1.0000\n",
      "Epoch 164: val_loss did not improve from 0.02092\n",
      "23/23 [==============================] - 1s 25ms/step - loss: 0.0011 - categorical_accuracy: 1.0000 - val_loss: 0.1308 - val_categorical_accuracy: 0.9500\n",
      "Epoch 165/1000\n",
      "23/23 [==============================] - ETA: 0s - loss: 0.0018 - categorical_accuracy: 1.0000\n",
      "Epoch 165: val_loss did not improve from 0.02092\n",
      "23/23 [==============================] - 1s 27ms/step - loss: 0.0018 - categorical_accuracy: 1.0000 - val_loss: 0.1069 - val_categorical_accuracy: 0.9667\n",
      "Epoch 166/1000\n",
      "22/23 [===========================>..] - ETA: 0s - loss: 0.0011 - categorical_accuracy: 1.0000  \n",
      "Epoch 166: val_loss did not improve from 0.02092\n",
      "23/23 [==============================] - 1s 26ms/step - loss: 0.0011 - categorical_accuracy: 1.0000 - val_loss: 0.1900 - val_categorical_accuracy: 0.9556\n",
      "Epoch 167/1000\n",
      "22/23 [===========================>..] - ETA: 0s - loss: 0.0016 - categorical_accuracy: 1.0000\n",
      "Epoch 167: val_loss did not improve from 0.02092\n",
      "23/23 [==============================] - 1s 25ms/step - loss: 0.0015 - categorical_accuracy: 1.0000 - val_loss: 0.1081 - val_categorical_accuracy: 0.9722\n",
      "Epoch 168/1000\n",
      "21/23 [==========================>...] - ETA: 0s - loss: 5.0615e-04 - categorical_accuracy: 1.0000\n",
      "Epoch 168: val_loss did not improve from 0.02092\n",
      "23/23 [==============================] - 1s 26ms/step - loss: 4.8558e-04 - categorical_accuracy: 1.0000 - val_loss: 0.0852 - val_categorical_accuracy: 0.9778\n",
      "Epoch 169/1000\n",
      "22/23 [===========================>..] - ETA: 0s - loss: 5.3260e-04 - categorical_accuracy: 1.0000\n",
      "Epoch 169: val_loss did not improve from 0.02092\n",
      "23/23 [==============================] - 1s 26ms/step - loss: 5.2879e-04 - categorical_accuracy: 1.0000 - val_loss: 0.0556 - val_categorical_accuracy: 0.9889\n",
      "Epoch 170/1000\n",
      "23/23 [==============================] - ETA: 0s - loss: 4.8990e-04 - categorical_accuracy: 1.0000\n",
      "Epoch 170: val_loss did not improve from 0.02092\n",
      "23/23 [==============================] - 1s 27ms/step - loss: 4.8990e-04 - categorical_accuracy: 1.0000 - val_loss: 0.1435 - val_categorical_accuracy: 0.9556\n",
      "Epoch 171/1000\n",
      "22/23 [===========================>..] - ETA: 0s - loss: 6.0179e-04 - categorical_accuracy: 1.0000\n",
      "Epoch 171: val_loss did not improve from 0.02092\n",
      "23/23 [==============================] - 1s 26ms/step - loss: 0.0013 - categorical_accuracy: 1.0000 - val_loss: 0.5887 - val_categorical_accuracy: 0.8722\n",
      "Epoch 172/1000\n",
      "22/23 [===========================>..] - ETA: 0s - loss: 0.0045 - categorical_accuracy: 0.9986\n",
      "Epoch 172: val_loss did not improve from 0.02092\n",
      "23/23 [==============================] - 1s 26ms/step - loss: 0.0044 - categorical_accuracy: 0.9986 - val_loss: 15.0157 - val_categorical_accuracy: 0.3278\n",
      "Epoch 173/1000\n",
      "22/23 [===========================>..] - ETA: 0s - loss: 0.0421 - categorical_accuracy: 0.9872\n",
      "Epoch 173: val_loss did not improve from 0.02092\n",
      "23/23 [==============================] - 1s 26ms/step - loss: 0.0413 - categorical_accuracy: 0.9875 - val_loss: 1.1439 - val_categorical_accuracy: 0.7278\n",
      "Epoch 174/1000\n",
      "22/23 [===========================>..] - ETA: 0s - loss: 0.0409 - categorical_accuracy: 0.9858\n",
      "Epoch 174: val_loss did not improve from 0.02092\n",
      "23/23 [==============================] - 1s 25ms/step - loss: 0.0400 - categorical_accuracy: 0.9861 - val_loss: 3.1556 - val_categorical_accuracy: 0.4889\n",
      "Epoch 175/1000\n",
      "21/23 [==========================>...] - ETA: 0s - loss: 0.0174 - categorical_accuracy: 0.9940\n",
      "Epoch 175: val_loss did not improve from 0.02092\n",
      "23/23 [==============================] - 1s 27ms/step - loss: 0.0164 - categorical_accuracy: 0.9944 - val_loss: 9.5180 - val_categorical_accuracy: 0.3778\n",
      "Epoch 176/1000\n",
      "22/23 [===========================>..] - ETA: 0s - loss: 0.0272 - categorical_accuracy: 0.9901\n",
      "Epoch 176: val_loss did not improve from 0.02092\n",
      "23/23 [==============================] - 1s 26ms/step - loss: 0.0270 - categorical_accuracy: 0.9903 - val_loss: 3.4654 - val_categorical_accuracy: 0.5333\n",
      "Epoch 177/1000\n",
      "22/23 [===========================>..] - ETA: 0s - loss: 0.0120 - categorical_accuracy: 0.9957\n",
      "Epoch 177: val_loss did not improve from 0.02092\n",
      "23/23 [==============================] - 1s 25ms/step - loss: 0.0129 - categorical_accuracy: 0.9958 - val_loss: 7.0748 - val_categorical_accuracy: 0.4389\n",
      "Epoch 178/1000\n",
      "22/23 [===========================>..] - ETA: 0s - loss: 0.0412 - categorical_accuracy: 0.9886\n",
      "Epoch 178: val_loss did not improve from 0.02092\n",
      "23/23 [==============================] - 1s 26ms/step - loss: 0.0407 - categorical_accuracy: 0.9889 - val_loss: 8.1773 - val_categorical_accuracy: 0.3444\n",
      "Epoch 179/1000\n",
      "22/23 [===========================>..] - ETA: 0s - loss: 0.0712 - categorical_accuracy: 0.9730\n",
      "Epoch 179: val_loss did not improve from 0.02092\n",
      "23/23 [==============================] - 1s 25ms/step - loss: 0.0698 - categorical_accuracy: 0.9736 - val_loss: 30.8836 - val_categorical_accuracy: 0.1889\n",
      "Epoch 180/1000\n",
      "22/23 [===========================>..] - ETA: 0s - loss: 0.1277 - categorical_accuracy: 0.9659\n",
      "Epoch 180: val_loss did not improve from 0.02092\n",
      "23/23 [==============================] - 1s 26ms/step - loss: 0.1318 - categorical_accuracy: 0.9625 - val_loss: 12.4253 - val_categorical_accuracy: 0.2278\n",
      "Epoch 181/1000\n",
      "23/23 [==============================] - ETA: 0s - loss: 0.1942 - categorical_accuracy: 0.9556\n",
      "Epoch 181: val_loss did not improve from 0.02092\n",
      "23/23 [==============================] - 1s 26ms/step - loss: 0.1942 - categorical_accuracy: 0.9556 - val_loss: 9.5986 - val_categorical_accuracy: 0.4500\n",
      "Epoch 182/1000\n",
      "22/23 [===========================>..] - ETA: 0s - loss: 0.0623 - categorical_accuracy: 0.9844\n",
      "Epoch 182: val_loss did not improve from 0.02092\n",
      "23/23 [==============================] - 1s 26ms/step - loss: 0.0615 - categorical_accuracy: 0.9847 - val_loss: 1.1518 - val_categorical_accuracy: 0.7389\n",
      "Epoch 183/1000\n",
      "22/23 [===========================>..] - ETA: 0s - loss: 0.0689 - categorical_accuracy: 0.9787\n",
      "Epoch 183: val_loss did not improve from 0.02092\n",
      "23/23 [==============================] - 1s 26ms/step - loss: 0.0686 - categorical_accuracy: 0.9792 - val_loss: 4.7931 - val_categorical_accuracy: 0.3833\n",
      "Epoch 184/1000\n",
      "22/23 [===========================>..] - ETA: 0s - loss: 0.0291 - categorical_accuracy: 0.9915\n",
      "Epoch 184: val_loss did not improve from 0.02092\n",
      "23/23 [==============================] - 1s 26ms/step - loss: 0.0284 - categorical_accuracy: 0.9917 - val_loss: 1.0629 - val_categorical_accuracy: 0.7500\n",
      "Epoch 185/1000\n",
      "22/23 [===========================>..] - ETA: 0s - loss: 0.0144 - categorical_accuracy: 0.9957\n",
      "Epoch 185: val_loss did not improve from 0.02092\n",
      "23/23 [==============================] - 1s 26ms/step - loss: 0.0141 - categorical_accuracy: 0.9958 - val_loss: 2.9109 - val_categorical_accuracy: 0.6111\n",
      "Epoch 186/1000\n",
      "21/23 [==========================>...] - ETA: 0s - loss: 0.0056 - categorical_accuracy: 0.9985\n",
      "Epoch 186: val_loss did not improve from 0.02092\n",
      "23/23 [==============================] - 1s 27ms/step - loss: 0.0056 - categorical_accuracy: 0.9986 - val_loss: 4.8594 - val_categorical_accuracy: 0.3556\n",
      "Epoch 187/1000\n",
      "22/23 [===========================>..] - ETA: 0s - loss: 0.0033 - categorical_accuracy: 1.0000\n",
      "Epoch 187: val_loss did not improve from 0.02092\n",
      "23/23 [==============================] - 1s 26ms/step - loss: 0.0033 - categorical_accuracy: 1.0000 - val_loss: 0.3286 - val_categorical_accuracy: 0.8944\n",
      "Epoch 188/1000\n",
      "21/23 [==========================>...] - ETA: 0s - loss: 0.0027 - categorical_accuracy: 1.0000\n",
      "Epoch 188: val_loss did not improve from 0.02092\n",
      "23/23 [==============================] - 1s 27ms/step - loss: 0.0027 - categorical_accuracy: 1.0000 - val_loss: 0.2016 - val_categorical_accuracy: 0.9167\n",
      "Epoch 189/1000\n",
      "22/23 [===========================>..] - ETA: 0s - loss: 0.0083 - categorical_accuracy: 0.9957\n",
      "Epoch 189: val_loss did not improve from 0.02092\n",
      "23/23 [==============================] - 1s 25ms/step - loss: 0.0084 - categorical_accuracy: 0.9958 - val_loss: 1.1787 - val_categorical_accuracy: 0.7056\n",
      "Epoch 190/1000\n",
      "22/23 [===========================>..] - ETA: 0s - loss: 0.0063 - categorical_accuracy: 0.9986\n",
      "Epoch 190: val_loss did not improve from 0.02092\n",
      "23/23 [==============================] - 1s 26ms/step - loss: 0.0062 - categorical_accuracy: 0.9986 - val_loss: 0.4470 - val_categorical_accuracy: 0.8778\n",
      "Epoch 191/1000\n",
      "23/23 [==============================] - ETA: 0s - loss: 0.0054 - categorical_accuracy: 0.9986\n",
      "Epoch 191: val_loss did not improve from 0.02092\n",
      "23/23 [==============================] - 1s 27ms/step - loss: 0.0054 - categorical_accuracy: 0.9986 - val_loss: 0.5492 - val_categorical_accuracy: 0.8389\n",
      "Epoch 192/1000\n",
      "22/23 [===========================>..] - ETA: 0s - loss: 0.0028 - categorical_accuracy: 1.0000\n",
      "Epoch 192: val_loss did not improve from 0.02092\n",
      "23/23 [==============================] - 1s 28ms/step - loss: 0.0034 - categorical_accuracy: 1.0000 - val_loss: 0.6385 - val_categorical_accuracy: 0.8167\n",
      "Epoch 193/1000\n",
      "22/23 [===========================>..] - ETA: 0s - loss: 0.0032 - categorical_accuracy: 0.9986\n",
      "Epoch 193: val_loss did not improve from 0.02092\n",
      "23/23 [==============================] - 1s 25ms/step - loss: 0.0032 - categorical_accuracy: 0.9986 - val_loss: 0.3018 - val_categorical_accuracy: 0.9333\n",
      "Epoch 194/1000\n",
      "22/23 [===========================>..] - ETA: 0s - loss: 0.0017 - categorical_accuracy: 1.0000\n",
      "Epoch 194: val_loss did not improve from 0.02092\n",
      "23/23 [==============================] - 1s 27ms/step - loss: 0.0017 - categorical_accuracy: 1.0000 - val_loss: 0.1274 - val_categorical_accuracy: 0.9667\n",
      "Epoch 195/1000\n",
      "22/23 [===========================>..] - ETA: 0s - loss: 0.0034 - categorical_accuracy: 0.9986\n",
      "Epoch 195: val_loss did not improve from 0.02092\n",
      "23/23 [==============================] - 1s 31ms/step - loss: 0.0040 - categorical_accuracy: 0.9986 - val_loss: 0.3256 - val_categorical_accuracy: 0.9167\n",
      "Epoch 196/1000\n",
      "21/23 [==========================>...] - ETA: 0s - loss: 0.0037 - categorical_accuracy: 1.0000\n",
      "Epoch 196: val_loss did not improve from 0.02092\n",
      "23/23 [==============================] - 1s 28ms/step - loss: 0.0035 - categorical_accuracy: 1.0000 - val_loss: 0.2206 - val_categorical_accuracy: 0.9333\n",
      "Epoch 197/1000\n",
      "23/23 [==============================] - ETA: 0s - loss: 0.0018 - categorical_accuracy: 1.0000\n",
      "Epoch 197: val_loss did not improve from 0.02092\n",
      "23/23 [==============================] - 1s 26ms/step - loss: 0.0018 - categorical_accuracy: 1.0000 - val_loss: 0.1078 - val_categorical_accuracy: 0.9611\n",
      "Epoch 198/1000\n",
      "21/23 [==========================>...] - ETA: 0s - loss: 8.3495e-04 - categorical_accuracy: 1.0000\n",
      "Epoch 198: val_loss did not improve from 0.02092\n",
      "23/23 [==============================] - 1s 28ms/step - loss: 7.9614e-04 - categorical_accuracy: 1.0000 - val_loss: 0.0705 - val_categorical_accuracy: 0.9778\n",
      "Epoch 199/1000\n",
      "23/23 [==============================] - ETA: 0s - loss: 0.0012 - categorical_accuracy: 1.0000\n",
      "Epoch 199: val_loss did not improve from 0.02092\n",
      "23/23 [==============================] - 1s 35ms/step - loss: 0.0012 - categorical_accuracy: 1.0000 - val_loss: 0.0802 - val_categorical_accuracy: 0.9778\n",
      "Epoch 200/1000\n",
      "21/23 [==========================>...] - ETA: 0s - loss: 0.0012 - categorical_accuracy: 1.0000\n",
      "Epoch 200: val_loss did not improve from 0.02092\n",
      "23/23 [==============================] - 1s 30ms/step - loss: 0.0011 - categorical_accuracy: 1.0000 - val_loss: 0.0979 - val_categorical_accuracy: 0.9722\n",
      "Epoch 201/1000\n",
      "22/23 [===========================>..] - ETA: 0s - loss: 5.9749e-04 - categorical_accuracy: 1.0000\n",
      "Epoch 201: val_loss did not improve from 0.02092\n",
      "23/23 [==============================] - 1s 31ms/step - loss: 5.8940e-04 - categorical_accuracy: 1.0000 - val_loss: 0.0376 - val_categorical_accuracy: 0.9889\n",
      "Epoch 202/1000\n",
      "22/23 [===========================>..] - ETA: 0s - loss: 3.3828e-04 - categorical_accuracy: 1.0000\n",
      "Epoch 202: val_loss did not improve from 0.02092\n",
      "23/23 [==============================] - 1s 31ms/step - loss: 3.3470e-04 - categorical_accuracy: 1.0000 - val_loss: 0.0373 - val_categorical_accuracy: 0.9944\n",
      "Epoch 203/1000\n",
      "23/23 [==============================] - ETA: 0s - loss: 5.5694e-04 - categorical_accuracy: 1.0000\n",
      "Epoch 203: val_loss did not improve from 0.02092\n",
      "23/23 [==============================] - 1s 31ms/step - loss: 5.5694e-04 - categorical_accuracy: 1.0000 - val_loss: 0.0540 - val_categorical_accuracy: 0.9889\n",
      "Epoch 204/1000\n",
      "22/23 [===========================>..] - ETA: 0s - loss: 7.2610e-04 - categorical_accuracy: 1.0000\n",
      "Epoch 204: val_loss did not improve from 0.02092\n",
      "23/23 [==============================] - 1s 32ms/step - loss: 7.1674e-04 - categorical_accuracy: 1.0000 - val_loss: 0.0453 - val_categorical_accuracy: 0.9944\n",
      "Epoch 205/1000\n",
      "21/23 [==========================>...] - ETA: 0s - loss: 5.9241e-04 - categorical_accuracy: 1.0000\n",
      "Epoch 205: val_loss did not improve from 0.02092\n",
      "23/23 [==============================] - 1s 30ms/step - loss: 5.7538e-04 - categorical_accuracy: 1.0000 - val_loss: 0.0504 - val_categorical_accuracy: 0.9833\n",
      "Epoch 206/1000\n",
      "22/23 [===========================>..] - ETA: 0s - loss: 2.3920e-04 - categorical_accuracy: 1.0000\n",
      "Epoch 206: val_loss did not improve from 0.02092\n",
      "23/23 [==============================] - 1s 28ms/step - loss: 2.3600e-04 - categorical_accuracy: 1.0000 - val_loss: 0.0507 - val_categorical_accuracy: 0.9833\n",
      "Epoch 207/1000\n",
      "22/23 [===========================>..] - ETA: 0s - loss: 3.2722e-04 - categorical_accuracy: 1.0000\n",
      "Epoch 207: val_loss did not improve from 0.02092\n",
      "23/23 [==============================] - 1s 29ms/step - loss: 3.3129e-04 - categorical_accuracy: 1.0000 - val_loss: 0.0443 - val_categorical_accuracy: 0.9889\n",
      "Epoch 208/1000\n",
      "23/23 [==============================] - ETA: 0s - loss: 7.3964e-04 - categorical_accuracy: 1.0000\n",
      "Epoch 208: val_loss did not improve from 0.02092\n",
      "23/23 [==============================] - 1s 29ms/step - loss: 7.3964e-04 - categorical_accuracy: 1.0000 - val_loss: 0.0373 - val_categorical_accuracy: 0.9778\n",
      "Epoch 209/1000\n",
      "22/23 [===========================>..] - ETA: 0s - loss: 0.0020 - categorical_accuracy: 1.0000\n",
      "Epoch 209: val_loss did not improve from 0.02092\n",
      "23/23 [==============================] - 1s 30ms/step - loss: 0.0020 - categorical_accuracy: 1.0000 - val_loss: 0.2234 - val_categorical_accuracy: 0.9333\n",
      "Epoch 210/1000\n",
      "23/23 [==============================] - ETA: 0s - loss: 0.0013 - categorical_accuracy: 1.0000\n",
      "Epoch 210: val_loss did not improve from 0.02092\n",
      "23/23 [==============================] - 1s 29ms/step - loss: 0.0013 - categorical_accuracy: 1.0000 - val_loss: 0.1542 - val_categorical_accuracy: 0.9444\n",
      "Epoch 211/1000\n",
      "21/23 [==========================>...] - ETA: 0s - loss: 0.0057 - categorical_accuracy: 0.9985\n",
      "Epoch 211: val_loss did not improve from 0.02092\n",
      "23/23 [==============================] - 1s 29ms/step - loss: 0.0055 - categorical_accuracy: 0.9986 - val_loss: 11.6745 - val_categorical_accuracy: 0.2667\n",
      "Epoch 212/1000\n",
      "22/23 [===========================>..] - ETA: 0s - loss: 0.0049 - categorical_accuracy: 0.9986\n",
      "Epoch 212: val_loss did not improve from 0.02092\n",
      "23/23 [==============================] - 1s 29ms/step - loss: 0.0048 - categorical_accuracy: 0.9986 - val_loss: 1.0013 - val_categorical_accuracy: 0.8222\n",
      "Epoch 213/1000\n",
      "22/23 [===========================>..] - ETA: 0s - loss: 0.0026 - categorical_accuracy: 1.0000\n",
      "Epoch 213: val_loss did not improve from 0.02092\n",
      "23/23 [==============================] - 1s 27ms/step - loss: 0.0026 - categorical_accuracy: 1.0000 - val_loss: 0.5327 - val_categorical_accuracy: 0.8833\n",
      "Epoch 214/1000\n",
      "22/23 [===========================>..] - ETA: 0s - loss: 0.0018 - categorical_accuracy: 1.0000  \n",
      "Epoch 214: val_loss did not improve from 0.02092\n",
      "23/23 [==============================] - 1s 27ms/step - loss: 0.0018 - categorical_accuracy: 1.0000 - val_loss: 0.6628 - val_categorical_accuracy: 0.8111\n",
      "Epoch 215/1000\n",
      "22/23 [===========================>..] - ETA: 0s - loss: 0.0030 - categorical_accuracy: 0.9986\n",
      "Epoch 215: val_loss did not improve from 0.02092\n",
      "23/23 [==============================] - 1s 28ms/step - loss: 0.0031 - categorical_accuracy: 0.9986 - val_loss: 0.0579 - val_categorical_accuracy: 0.9833\n",
      "Epoch 216/1000\n",
      "23/23 [==============================] - ETA: 0s - loss: 0.0044 - categorical_accuracy: 0.9986\n",
      "Epoch 216: val_loss did not improve from 0.02092\n",
      "23/23 [==============================] - 1s 28ms/step - loss: 0.0044 - categorical_accuracy: 0.9986 - val_loss: 6.3399 - val_categorical_accuracy: 0.4389\n",
      "Epoch 217/1000\n",
      "23/23 [==============================] - ETA: 0s - loss: 0.0153 - categorical_accuracy: 0.9986\n",
      "Epoch 217: val_loss did not improve from 0.02092\n",
      "23/23 [==============================] - 1s 27ms/step - loss: 0.0153 - categorical_accuracy: 0.9986 - val_loss: 0.9129 - val_categorical_accuracy: 0.7833\n",
      "Epoch 218/1000\n",
      "21/23 [==========================>...] - ETA: 0s - loss: 0.0128 - categorical_accuracy: 0.9955\n",
      "Epoch 218: val_loss did not improve from 0.02092\n",
      "23/23 [==============================] - 1s 28ms/step - loss: 0.0150 - categorical_accuracy: 0.9944 - val_loss: 1.7121 - val_categorical_accuracy: 0.7389\n",
      "Epoch 219/1000\n",
      "22/23 [===========================>..] - ETA: 0s - loss: 0.0390 - categorical_accuracy: 0.9844\n",
      "Epoch 219: val_loss did not improve from 0.02092\n",
      "23/23 [==============================] - 1s 27ms/step - loss: 0.0382 - categorical_accuracy: 0.9847 - val_loss: 9.7028 - val_categorical_accuracy: 0.3167\n",
      "Epoch 220/1000\n",
      "22/23 [===========================>..] - ETA: 0s - loss: 0.0450 - categorical_accuracy: 0.9872\n",
      "Epoch 220: val_loss did not improve from 0.02092\n",
      "23/23 [==============================] - 1s 27ms/step - loss: 0.0471 - categorical_accuracy: 0.9861 - val_loss: 9.7005 - val_categorical_accuracy: 0.3111\n",
      "Epoch 221/1000\n",
      "23/23 [==============================] - ETA: 0s - loss: 0.0372 - categorical_accuracy: 0.9875\n",
      "Epoch 221: val_loss did not improve from 0.02092\n",
      "23/23 [==============================] - 1s 28ms/step - loss: 0.0372 - categorical_accuracy: 0.9875 - val_loss: 27.4377 - val_categorical_accuracy: 0.1778\n",
      "Epoch 222/1000\n",
      "21/23 [==========================>...] - ETA: 0s - loss: 0.0494 - categorical_accuracy: 0.9836\n",
      "Epoch 222: val_loss did not improve from 0.02092\n",
      "23/23 [==============================] - 1s 26ms/step - loss: 0.0472 - categorical_accuracy: 0.9847 - val_loss: 20.6630 - val_categorical_accuracy: 0.1889\n",
      "Epoch 223/1000\n",
      "22/23 [===========================>..] - ETA: 0s - loss: 0.0426 - categorical_accuracy: 0.9858\n",
      "Epoch 223: val_loss did not improve from 0.02092\n",
      "23/23 [==============================] - 1s 26ms/step - loss: 0.0431 - categorical_accuracy: 0.9847 - val_loss: 9.7790 - val_categorical_accuracy: 0.3389\n",
      "Epoch 224/1000\n",
      "22/23 [===========================>..] - ETA: 0s - loss: 0.0097 - categorical_accuracy: 1.0000\n",
      "Epoch 224: val_loss did not improve from 0.02092\n",
      "23/23 [==============================] - 1s 25ms/step - loss: 0.0096 - categorical_accuracy: 1.0000 - val_loss: 0.5405 - val_categorical_accuracy: 0.8389\n",
      "Epoch 225/1000\n",
      "21/23 [==========================>...] - ETA: 0s - loss: 0.0148 - categorical_accuracy: 0.9970\n",
      "Epoch 225: val_loss did not improve from 0.02092\n",
      "23/23 [==============================] - 1s 27ms/step - loss: 0.0139 - categorical_accuracy: 0.9972 - val_loss: 9.4461 - val_categorical_accuracy: 0.3611\n",
      "Epoch 226/1000\n",
      "22/23 [===========================>..] - ETA: 0s - loss: 0.0283 - categorical_accuracy: 0.9943\n",
      "Epoch 226: val_loss did not improve from 0.02092\n",
      "23/23 [==============================] - 1s 26ms/step - loss: 0.0286 - categorical_accuracy: 0.9944 - val_loss: 2.4932 - val_categorical_accuracy: 0.7167\n",
      "Epoch 227/1000\n",
      "22/23 [===========================>..] - ETA: 0s - loss: 0.0097 - categorical_accuracy: 0.9986\n",
      "Epoch 227: val_loss did not improve from 0.02092\n",
      "23/23 [==============================] - 1s 25ms/step - loss: 0.0096 - categorical_accuracy: 0.9986 - val_loss: 6.2380 - val_categorical_accuracy: 0.5000\n",
      "Epoch 228/1000\n",
      "22/23 [===========================>..] - ETA: 0s - loss: 0.0035 - categorical_accuracy: 0.9986\n",
      "Epoch 228: val_loss did not improve from 0.02092\n",
      "23/23 [==============================] - 1s 25ms/step - loss: 0.0034 - categorical_accuracy: 0.9986 - val_loss: 1.6528 - val_categorical_accuracy: 0.7333\n",
      "Epoch 229/1000\n",
      "22/23 [===========================>..] - ETA: 0s - loss: 0.0015 - categorical_accuracy: 1.0000\n",
      "Epoch 229: val_loss did not improve from 0.02092\n",
      "23/23 [==============================] - 1s 27ms/step - loss: 0.0015 - categorical_accuracy: 1.0000 - val_loss: 0.6181 - val_categorical_accuracy: 0.8722\n",
      "Epoch 230/1000\n",
      "22/23 [===========================>..] - ETA: 0s - loss: 0.0025 - categorical_accuracy: 1.0000\n",
      "Epoch 230: val_loss did not improve from 0.02092\n",
      "23/23 [==============================] - 1s 26ms/step - loss: 0.0026 - categorical_accuracy: 1.0000 - val_loss: 0.0453 - val_categorical_accuracy: 0.9944\n",
      "Epoch 231/1000\n",
      "22/23 [===========================>..] - ETA: 0s - loss: 0.0019 - categorical_accuracy: 1.0000\n",
      "Epoch 231: val_loss did not improve from 0.02092\n",
      "23/23 [==============================] - 1s 25ms/step - loss: 0.0019 - categorical_accuracy: 1.0000 - val_loss: 0.0259 - val_categorical_accuracy: 0.9889\n",
      "Epoch 232/1000\n",
      "23/23 [==============================] - ETA: 0s - loss: 0.0014 - categorical_accuracy: 1.0000\n",
      "Epoch 232: val_loss did not improve from 0.02092\n",
      "23/23 [==============================] - 1s 27ms/step - loss: 0.0014 - categorical_accuracy: 1.0000 - val_loss: 0.0485 - val_categorical_accuracy: 0.9833\n",
      "Epoch 233/1000\n",
      "22/23 [===========================>..] - ETA: 0s - loss: 0.0040 - categorical_accuracy: 0.9986\n",
      "Epoch 233: val_loss did not improve from 0.02092\n",
      "23/23 [==============================] - 1s 26ms/step - loss: 0.0039 - categorical_accuracy: 0.9986 - val_loss: 0.0368 - val_categorical_accuracy: 0.9944\n",
      "Epoch 234/1000\n",
      "23/23 [==============================] - ETA: 0s - loss: 6.0700e-04 - categorical_accuracy: 1.0000\n",
      "Epoch 234: val_loss did not improve from 0.02092\n",
      "23/23 [==============================] - 1s 27ms/step - loss: 6.0700e-04 - categorical_accuracy: 1.0000 - val_loss: 2.0791 - val_categorical_accuracy: 0.5778\n",
      "Epoch 235/1000\n",
      "22/23 [===========================>..] - ETA: 0s - loss: 0.0037 - categorical_accuracy: 0.9986\n",
      "Epoch 235: val_loss did not improve from 0.02092\n",
      "23/23 [==============================] - 1s 25ms/step - loss: 0.0037 - categorical_accuracy: 0.9986 - val_loss: 1.8508 - val_categorical_accuracy: 0.6611\n",
      "Epoch 236/1000\n",
      "22/23 [===========================>..] - ETA: 0s - loss: 0.0016 - categorical_accuracy: 1.0000\n",
      "Epoch 236: val_loss did not improve from 0.02092\n",
      "23/23 [==============================] - 1s 27ms/step - loss: 0.0016 - categorical_accuracy: 1.0000 - val_loss: 0.0256 - val_categorical_accuracy: 0.9889\n",
      "Epoch 237/1000\n",
      "21/23 [==========================>...] - ETA: 0s - loss: 0.0022 - categorical_accuracy: 0.9985    \n",
      "Epoch 237: val_loss did not improve from 0.02092\n",
      "23/23 [==============================] - 1s 26ms/step - loss: 0.0027 - categorical_accuracy: 0.9986 - val_loss: 5.7385 - val_categorical_accuracy: 0.5111\n",
      "Epoch 238/1000\n",
      "21/23 [==========================>...] - ETA: 0s - loss: 0.0055 - categorical_accuracy: 0.9985\n",
      "Epoch 238: val_loss did not improve from 0.02092\n",
      "23/23 [==============================] - 1s 26ms/step - loss: 0.0056 - categorical_accuracy: 0.9986 - val_loss: 1.0806 - val_categorical_accuracy: 0.7667\n",
      "Epoch 239/1000\n",
      "21/23 [==========================>...] - ETA: 0s - loss: 0.0189 - categorical_accuracy: 0.9940\n",
      "Epoch 239: val_loss did not improve from 0.02092\n",
      "23/23 [==============================] - 1s 26ms/step - loss: 0.0182 - categorical_accuracy: 0.9944 - val_loss: 7.8784 - val_categorical_accuracy: 0.4278\n",
      "Epoch 240/1000\n",
      "21/23 [==========================>...] - ETA: 0s - loss: 0.0250 - categorical_accuracy: 0.9881\n",
      "Epoch 240: val_loss did not improve from 0.02092\n",
      "23/23 [==============================] - 1s 26ms/step - loss: 0.0236 - categorical_accuracy: 0.9889 - val_loss: 6.2294 - val_categorical_accuracy: 0.5333\n",
      "Epoch 241/1000\n",
      "22/23 [===========================>..] - ETA: 0s - loss: 0.0161 - categorical_accuracy: 0.9929\n",
      "Epoch 241: val_loss did not improve from 0.02092\n",
      "23/23 [==============================] - 1s 26ms/step - loss: 0.0158 - categorical_accuracy: 0.9931 - val_loss: 7.0918 - val_categorical_accuracy: 0.4444\n",
      "Epoch 242/1000\n",
      "23/23 [==============================] - ETA: 0s - loss: 0.0516 - categorical_accuracy: 0.9875\n",
      "Epoch 242: val_loss did not improve from 0.02092\n",
      "23/23 [==============================] - 1s 26ms/step - loss: 0.0516 - categorical_accuracy: 0.9875 - val_loss: 12.6580 - val_categorical_accuracy: 0.3111\n",
      "Epoch 243/1000\n",
      "22/23 [===========================>..] - ETA: 0s - loss: 0.0641 - categorical_accuracy: 0.9815\n",
      "Epoch 243: val_loss did not improve from 0.02092\n",
      "23/23 [==============================] - 1s 25ms/step - loss: 0.0636 - categorical_accuracy: 0.9819 - val_loss: 19.2282 - val_categorical_accuracy: 0.2111\n",
      "Epoch 244/1000\n",
      "22/23 [===========================>..] - ETA: 0s - loss: 0.0351 - categorical_accuracy: 0.9872\n",
      "Epoch 244: val_loss did not improve from 0.02092\n",
      "23/23 [==============================] - 1s 26ms/step - loss: 0.0343 - categorical_accuracy: 0.9875 - val_loss: 18.2834 - val_categorical_accuracy: 0.2222\n",
      "Epoch 245/1000\n",
      "22/23 [===========================>..] - ETA: 0s - loss: 0.0094 - categorical_accuracy: 0.9986\n",
      "Epoch 245: val_loss did not improve from 0.02092\n",
      "23/23 [==============================] - 1s 25ms/step - loss: 0.0097 - categorical_accuracy: 0.9986 - val_loss: 3.2915 - val_categorical_accuracy: 0.6500\n",
      "Epoch 246/1000\n",
      "23/23 [==============================] - ETA: 0s - loss: 0.0041 - categorical_accuracy: 0.9986\n",
      "Epoch 246: val_loss did not improve from 0.02092\n",
      "23/23 [==============================] - 1s 26ms/step - loss: 0.0041 - categorical_accuracy: 0.9986 - val_loss: 1.8789 - val_categorical_accuracy: 0.7889\n",
      "Epoch 247/1000\n",
      "22/23 [===========================>..] - ETA: 0s - loss: 0.0032 - categorical_accuracy: 1.0000\n",
      "Epoch 247: val_loss did not improve from 0.02092\n",
      "23/23 [==============================] - 1s 26ms/step - loss: 0.0032 - categorical_accuracy: 1.0000 - val_loss: 0.0958 - val_categorical_accuracy: 0.9722\n",
      "Epoch 248/1000\n",
      "22/23 [===========================>..] - ETA: 0s - loss: 0.0013 - categorical_accuracy: 1.0000\n",
      "Epoch 248: val_loss did not improve from 0.02092\n",
      "23/23 [==============================] - 1s 26ms/step - loss: 0.0012 - categorical_accuracy: 1.0000 - val_loss: 0.6063 - val_categorical_accuracy: 0.8222\n",
      "Epoch 249/1000\n",
      "22/23 [===========================>..] - ETA: 0s - loss: 5.5240e-04 - categorical_accuracy: 1.0000\n",
      "Epoch 249: val_loss did not improve from 0.02092\n",
      "23/23 [==============================] - 1s 26ms/step - loss: 5.4904e-04 - categorical_accuracy: 1.0000 - val_loss: 0.2282 - val_categorical_accuracy: 0.9556\n",
      "Epoch 250/1000\n",
      "21/23 [==========================>...] - ETA: 0s - loss: 4.4019e-04 - categorical_accuracy: 1.0000\n",
      "Epoch 250: val_loss did not improve from 0.02092\n",
      "23/23 [==============================] - 1s 26ms/step - loss: 4.7449e-04 - categorical_accuracy: 1.0000 - val_loss: 0.0859 - val_categorical_accuracy: 0.9889\n",
      "Epoch 251/1000\n",
      "22/23 [===========================>..] - ETA: 0s - loss: 0.0033 - categorical_accuracy: 0.9986\n",
      "Epoch 251: val_loss did not improve from 0.02092\n",
      "23/23 [==============================] - 1s 26ms/step - loss: 0.0033 - categorical_accuracy: 0.9986 - val_loss: 0.8240 - val_categorical_accuracy: 0.8722\n",
      "Epoch 252/1000\n",
      "22/23 [===========================>..] - ETA: 0s - loss: 0.0021 - categorical_accuracy: 1.0000\n",
      "Epoch 252: val_loss did not improve from 0.02092\n",
      "23/23 [==============================] - 1s 25ms/step - loss: 0.0021 - categorical_accuracy: 1.0000 - val_loss: 0.4446 - val_categorical_accuracy: 0.9056\n",
      "Epoch 253/1000\n",
      "21/23 [==========================>...] - ETA: 0s - loss: 0.0012 - categorical_accuracy: 1.0000\n",
      "Epoch 253: val_loss did not improve from 0.02092\n",
      "23/23 [==============================] - 1s 26ms/step - loss: 0.0011 - categorical_accuracy: 1.0000 - val_loss: 0.1377 - val_categorical_accuracy: 0.9833\n",
      "Epoch 254/1000\n",
      "22/23 [===========================>..] - ETA: 0s - loss: 0.0014 - categorical_accuracy: 1.0000\n",
      "Epoch 254: val_loss did not improve from 0.02092\n",
      "23/23 [==============================] - 1s 26ms/step - loss: 0.0014 - categorical_accuracy: 1.0000 - val_loss: 0.0613 - val_categorical_accuracy: 0.9944\n",
      "Epoch 255/1000\n",
      "21/23 [==========================>...] - ETA: 0s - loss: 3.8356e-04 - categorical_accuracy: 1.0000\n",
      "Epoch 255: val_loss did not improve from 0.02092\n",
      "Restoring model weights from the end of the best epoch: 55.\n",
      "23/23 [==============================] - 1s 27ms/step - loss: 3.8139e-04 - categorical_accuracy: 1.0000 - val_loss: 0.0722 - val_categorical_accuracy: 0.9889\n",
      "Epoch 255: early stopping\n"
     ]
    }
   ],
   "source": [
    "history = model.fit(\n",
    "    X_train, y_train, \n",
    "    validation_data=(X_test, y_test), \n",
    "    epochs=1000, \n",
    "    callbacks=[tb_callback, model_checkpoint, early_stopping_callbacks, csv_logger, time_callback]\n",
    ")"
   ]
  },
  {
   "cell_type": "code",
   "execution_count": 48,
   "metadata": {},
   "outputs": [
    {
     "name": "stdout",
     "output_type": "stream",
     "text": [
      "Model created\n"
     ]
    }
   ],
   "source": [
    "model_path = './model_6_labels/last_model.h5'\n",
    "        \n",
    "# Lưu mô hình đã huấn luyện\n",
    "model.save(model_path)\n",
    "print(\"Model created\")"
   ]
  },
  {
   "cell_type": "markdown",
   "metadata": {},
   "source": [
    "# 8. Make Predictions"
   ]
  },
  {
   "cell_type": "code",
   "execution_count": 49,
   "metadata": {},
   "outputs": [],
   "source": [
    "from sklearn.metrics import multilabel_confusion_matrix, accuracy_score, confusion_matrix\n",
    "import seaborn as sns\n",
    "from sklearn.metrics import classification_report\n",
    "import matplotlib.pyplot as plt\n",
    "from scipy import stats"
   ]
  },
  {
   "cell_type": "code",
   "execution_count": 50,
   "metadata": {},
   "outputs": [
    {
     "name": "stdout",
     "output_type": "stream",
     "text": [
      "6/6 [==============================] - 1s 13ms/step\n",
      "              precision    recall  f1-score   support\n",
      "\n",
      "           0       0.97      1.00      0.98        31\n",
      "           1       0.97      0.97      0.97        32\n",
      "           2       1.00      0.96      0.98        24\n",
      "           3       1.00      1.00      1.00        32\n",
      "           4       1.00      1.00      1.00        25\n",
      "           5       1.00      1.00      1.00        36\n",
      "\n",
      "    accuracy                           0.99       180\n",
      "   macro avg       0.99      0.99      0.99       180\n",
      "weighted avg       0.99      0.99      0.99       180\n",
      "\n"
     ]
    },
    {
     "data": {
      "image/png": "[encoded data removed]",
      "text/plain": [
       "<Figure size 1600x1600 with 2 Axes>"
      ]
     },
     "metadata": {},
     "output_type": "display_data"
    }
   ],
   "source": [
    "best_model = tf.keras.models.load_model('./model_6_labels/best_model.h5')\n",
    "\n",
    "# Nếu y_test đang ở dạng one-hot encoded, chuyển nó thành dạng nhãn đơn\n",
    "if len(y_test.shape) > 1 and y_test.shape[1] > 1:\n",
    "    true_classes = np.argmax(y_test, axis=1)\n",
    "else:\n",
    "    true_classes = np.array(y_test)\n",
    "\n",
    "# Dự đoán các lớp từ X_test\n",
    "predicted_classes = np.argmax(best_model.predict(X_test), axis=1)\n",
    "\n",
    "# Hiển thị confusion matrix\n",
    "confusionmatrix = confusion_matrix(true_classes, predicted_classes)\n",
    "plt.figure(figsize=(16, 16))\n",
    "sns.heatmap(confusionmatrix, cmap='Blues', annot=True, cbar=True)\n",
    "\n",
    "# Lưu ma trận nhầm lẫn\n",
    "output_path_conf = './model_6_labels/conf_matrix.png'\n",
    "plt.savefig(output_path_conf)\n",
    "\n",
    "# In classification report\n",
    "print(classification_report(true_classes, predicted_classes))"
   ]
  },
  {
   "cell_type": "code",
   "execution_count": 51,
   "metadata": {},
   "outputs": [
    {
     "data": {
      "image/png": "[encoded data removed]",
      "text/plain": [
       "<Figure size 1200x400 with 2 Axes>"
      ]
     },
     "metadata": {},
     "output_type": "display_data"
    }
   ],
   "source": [
    "fig , ax = plt.subplots(1,2)\n",
    "train_acc = history.history['categorical_accuracy']\n",
    "train_loss = history.history['loss']\n",
    "fig.set_size_inches(12,4)\n",
    "\n",
    "ax[0].plot(history.history['categorical_accuracy'])\n",
    "ax[0].plot(history.history['val_categorical_accuracy'])\n",
    "ax[0].set_title('Training Accuracy vs Validation Accuracy')\n",
    "ax[0].set_ylabel('Accuracy')\n",
    "ax[0].set_xlabel('Epoch')\n",
    "ax[0].legend(['Train', 'Validation'], loc='upper left')\n",
    "\n",
    "ax[1].plot(history.history['loss'])\n",
    "ax[1].plot(history.history['val_loss'])\n",
    "ax[1].set_title('Training Loss vs Validation Loss')\n",
    "ax[1].set_ylabel('Loss')\n",
    "ax[1].set_xlabel('Epoch')\n",
    "ax[1].legend(['Train', 'Validation'], loc='upper left')\n",
    "\n",
    "output_path_trainhis = './model_6_labels/training_his.png' \n",
    "plt.savefig(output_path_trainhis)\n",
    "\n",
    "plt.show()"
   ]
  },
  {
   "cell_type": "markdown",
   "metadata": {},
   "source": [
    "# 9. Save Weights"
   ]
  },
  {
   "cell_type": "code",
   "execution_count": 52,
   "metadata": {},
   "outputs": [
    {
     "name": "stderr",
     "output_type": "stream",
     "text": [
      "c:\\Users\\ACER\\AppData\\Local\\Programs\\Python\\Python310\\lib\\site-packages\\keras\\src\\engine\\training.py:3103: UserWarning: You are saving your model as an HDF5 file via `model.save()`. This file format is considered legacy. We recommend using instead the native Keras format, e.g. `model.save('my_model.keras')`.\n",
      "  saving_api.save_model(\n"
     ]
    }
   ],
   "source": [
    "model.save('./model_6_labels/weight_model.h5')"
   ]
  },
  {
   "cell_type": "code",
   "execution_count": 53,
   "metadata": {},
   "outputs": [],
   "source": [
    "model.load_weights('./model_6_labels/weight_model.h5')"
   ]
  },
  {
   "cell_type": "markdown",
   "metadata": {},
   "source": [
    "# 10. Test in Real Time"
   ]
  },
  {
   "cell_type": "code",
   "execution_count": null,
   "metadata": {},
   "outputs": [
    {
     "name": "stdout",
     "output_type": "stream",
     "text": [
      "1/1 [==============================] - 1s 639ms/step\n",
      "left\n"
     ]
    },
    {
     "ename": "NameError",
     "evalue": "name 'prob_viz' is not defined",
     "output_type": "error",
     "traceback": [
      "\u001b[1;31m---------------------------------------------------------------------------\u001b[0m",
      "\u001b[1;31mNameError\u001b[0m                                 Traceback (most recent call last)",
      "Cell \u001b[1;32mIn[54], line 36\u001b[0m\n\u001b[0;32m     33\u001b[0m         sentence \u001b[38;5;241m=\u001b[39m sentence[\u001b[38;5;241m-\u001b[39m\u001b[38;5;241m1\u001b[39m:]\n\u001b[0;32m     35\u001b[0m     \u001b[38;5;66;03m# Trực quan hóa chỉ các nhãn có xác suất vượt quá threshold\u001b[39;00m\n\u001b[1;32m---> 36\u001b[0m     image \u001b[38;5;241m=\u001b[39m \u001b[43mprob_viz\u001b[49m([prob \u001b[38;5;28;01mif\u001b[39;00m prob \u001b[38;5;241m>\u001b[39m threshold \u001b[38;5;28;01melse\u001b[39;00m \u001b[38;5;241m0\u001b[39m \u001b[38;5;28;01mfor\u001b[39;00m prob \u001b[38;5;129;01min\u001b[39;00m res], actions, image, colors)\n\u001b[0;32m     38\u001b[0m cv2\u001b[38;5;241m.\u001b[39mrectangle(image, (\u001b[38;5;241m0\u001b[39m,\u001b[38;5;241m0\u001b[39m), (\u001b[38;5;241m640\u001b[39m, \u001b[38;5;241m40\u001b[39m), (\u001b[38;5;241m245\u001b[39m, \u001b[38;5;241m117\u001b[39m, \u001b[38;5;241m16\u001b[39m), \u001b[38;5;241m-\u001b[39m\u001b[38;5;241m1\u001b[39m)\n\u001b[0;32m     39\u001b[0m cv2\u001b[38;5;241m.\u001b[39mputText(image, \u001b[38;5;124m'\u001b[39m\u001b[38;5;124m \u001b[39m\u001b[38;5;124m'\u001b[39m\u001b[38;5;241m.\u001b[39mjoin(sentence), (\u001b[38;5;241m3\u001b[39m,\u001b[38;5;241m30\u001b[39m), \n\u001b[0;32m     40\u001b[0m             cv2\u001b[38;5;241m.\u001b[39mFONT_HERSHEY_SIMPLEX, \u001b[38;5;241m1\u001b[39m, (\u001b[38;5;241m255\u001b[39m, \u001b[38;5;241m255\u001b[39m, \u001b[38;5;241m255\u001b[39m), \u001b[38;5;241m2\u001b[39m, cv2\u001b[38;5;241m.\u001b[39mLINE_AA)\n",
      "\u001b[1;31mNameError\u001b[0m: name 'prob_viz' is not defined"
     ]
    },
    {
     "ename": "",
     "evalue": "",
     "output_type": "error",
     "traceback": [
      "\u001b[1;31mThe Kernel crashed while executing code in the current cell or a previous cell. \n",
      "\u001b[1;31mPlease review the code in the cell(s) to identify a possible cause of the failure. \n",
      "\u001b[1;31mClick <a href='https://aka.ms/vscodeJupyterKernelCrash'>here</a> for more info. \n",
      "\u001b[1;31mView Jupyter <a href='command:jupyter.viewOutput'>log</a> for further details."
     ]
    }
   ],
   "source": [
    "sequence = []\n",
    "sentence = []\n",
    "threshold = 0.8\n",
    "\n",
    "cap = cv2.VideoCapture(0)\n",
    "with mp_holistic.Holistic(min_detection_confidence=0.5, min_tracking_confidence=0.5) as holistic:\n",
    "    while cap.isOpened():\n",
    "\n",
    "        ret, frame = cap.read()\n",
    "\n",
    "        image, results = mediapipe_detection(frame, holistic)\n",
    "\n",
    "        draw_styled_landmarks(image, results)\n",
    "\n",
    "        keypoints = extract_keypoints(results)\n",
    "        sequence.append(keypoints)\n",
    "        sequence = sequence[-30:]\n",
    "        \n",
    "        if len(sequence) == 30:\n",
    "            res = model.predict(np.expand_dims(sequence, axis=0))[0]\n",
    "            print(actions[np.argmax(res)])\n",
    "\n",
    "            # Chỉ thêm vào 'sentence' nếu xác suất cao hơn threshold\n",
    "            if res[np.argmax(res)] > threshold: \n",
    "                if len(sentence) > 0: \n",
    "                    if actions[np.argmax(res)] != sentence[-1]:\n",
    "                        sentence.append(actions[np.argmax(res)])\n",
    "                else:\n",
    "                    sentence.append(actions[np.argmax(res)])\n",
    "\n",
    "            # Giới hạn câu hiển thị không quá 1 hành động\n",
    "            if len(sentence) > 1: \n",
    "                sentence = sentence[-1:]\n",
    "\n",
    "            # Trực quan hóa chỉ các nhãn có xác suất vượt quá threshold\n",
    "            image = prob_viz([prob if prob > threshold else 0 for prob in res], actions, image, colors)\n",
    "            \n",
    "        cv2.rectangle(image, (0,0), (640, 40), (245, 117, 16), -1)\n",
    "        cv2.putText(image, ' '.join(sentence), (3,30), \n",
    "                    cv2.FONT_HERSHEY_SIMPLEX, 1, (255, 255, 255), 2, cv2.LINE_AA)\n",
    "        \n",
    "        cv2.imshow('OpenCV Feed', image)\n",
    "\n",
    "        if cv2.waitKey(10) & 0xFF == ord('x'):\n",
    "            break\n",
    "\n",
    "cap.release()\n",
    "cv2.destroyAllWindows()"
   ]
  },
  {
   "cell_type": "code",
   "execution_count": 20,
   "metadata": {},
   "outputs": [],
   "source": [
    "cap.release()\n",
    "cv2.destroyAllWindows()"
   ]
  }
 ],
 "metadata": {
  "kernelspec": {
   "display_name": "Python 3",
   "language": "python",
   "name": "python3"
  },
  "language_info": {
   "codemirror_mode": {
    "name": "ipython",
    "version": 3
   },
   "file_extension": ".py",
   "mimetype": "text/x-python",
   "name": "python",
   "nbconvert_exporter": "python",
   "pygments_lexer": "ipython3",
   "version": "3.10.11"
  }
 },
 "nbformat": 4,
 "nbformat_minor": 2
}
